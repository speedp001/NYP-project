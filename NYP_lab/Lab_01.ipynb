{
 "cells": [
  {
   "cell_type": "markdown",
   "id": "2edcd0e3",
   "metadata": {},
   "source": [
    "# PROMGRAMMING FOR DATA SCIENCE\n",
    "\n",
    "## Week1 (P1) -> Objects and Data Types"
   ]
  },
  {
   "cell_type": "code",
   "execution_count": 6,
   "id": "1af1d60a",
   "metadata": {},
   "outputs": [
    {
     "name": "stdout",
     "output_type": "stream",
     "text": [
      "<class 'int'>\n",
      "<class 'float'>\n",
      "<class 'float'>\n"
     ]
    }
   ],
   "source": [
    "a = 20\n",
    "b = 3.8\n",
    "add = a + b\n",
    "print(f\"{type(a)}\\n{type(b)}\\n{type(add)}\")"
   ]
  },
  {
   "cell_type": "code",
   "execution_count": 8,
   "id": "8a70b0b4",
   "metadata": {},
   "outputs": [
    {
     "name": "stdout",
     "output_type": "stream",
     "text": [
      "10 == (7+2)\n"
     ]
    }
   ],
   "source": [
    "def strange_fuc(a, b) :\n",
    "    print(f\"{a+b+1} == ({a}+{b})\")\n",
    "    \n",
    "strange_fuc(7,2)"
   ]
  },
  {
   "cell_type": "code",
   "execution_count": 9,
   "id": "9f293151",
   "metadata": {},
   "outputs": [
    {
     "name": "stdout",
     "output_type": "stream",
     "text": [
      "1100.0\n"
     ]
    }
   ],
   "source": [
    "def find_z(v,w,x,y) :\n",
    "    z = (v+w)*(x/y)\n",
    "    print(z)\n",
    "    \n",
    "find_z(20, 35, 80, 4)"
   ]
  },
  {
   "cell_type": "markdown",
   "id": "a7ef58a8",
   "metadata": {},
   "source": [
    "## Week1 (P1) -> Operators in Python"
   ]
  },
  {
   "cell_type": "code",
   "execution_count": 13,
   "id": "0314501a",
   "metadata": {},
   "outputs": [
    {
     "name": "stdout",
     "output_type": "stream",
     "text": [
      "After 7years, result=194.87171000000012\n"
     ]
    }
   ],
   "source": [
    "def bank(x, y, z) :\n",
    "    a = x * (y**z)\n",
    "    print(f\"After {z}years, result={a}\")\n",
    "          \n",
    "bank(100, 1.1, 7)"
   ]
  },
  {
   "cell_type": "code",
   "execution_count": 58,
   "id": "5ade0c84",
   "metadata": {},
   "outputs": [
    {
     "name": "stdout",
     "output_type": "stream",
     "text": [
      "Input the username: speedpaul\n",
      "Input the password: qwer1234\n",
      "is_admin: True, Returned Results: True\n"
     ]
    }
   ],
   "source": [
    "username = str(input(\"Input the username: \"))\n",
    "password = str(input(\"Input the password: \"))\n",
    "\n",
    "# User_info list\n",
    "user_list = []\n",
    "\n",
    "def authenticated(username, password):\n",
    "    # Initialize is_admin with a default value of True\n",
    "    is_admin = True\n",
    "\n",
    "    # Redundancy judgment\n",
    "    user_info = (username, password)\n",
    "    for user in user_list:\n",
    "        if username == user[0]:\n",
    "            is_admin = False\n",
    "            print(\"This username is already in use\")\n",
    "            break  # Exit the loop early if a duplicate is found\n",
    "        else:\n",
    "            is_admin = True\n",
    "\n",
    "    # Password conditions\n",
    "    if is_admin:\n",
    "        if (username == password) or (len(password) < 8):\n",
    "            returned_results = False\n",
    "        else:\n",
    "            returned_results = True\n",
    "\n",
    "    return is_admin, returned_results\n",
    "\n",
    "a, b = authenticated(username, password)\n",
    "print(f\"is_admin: {a}, Returned Results: {b}\")\n"
   ]
  },
  {
   "cell_type": "code",
   "execution_count": 28,
   "id": "6594db23",
   "metadata": {},
   "outputs": [
    {
     "name": "stdout",
     "output_type": "stream",
     "text": [
      "Guess the number between 1 and 10: 6\n",
      "The secret number is higher.\n",
      "Guess the number between 1 and 10: 9\n",
      "The secret number is higher.\n",
      "Guess the number between 1 and 10: 10\n",
      "Congratulations! You guessed the correct number 10 in 3 attempts.\n"
     ]
    }
   ],
   "source": [
    "import random\n",
    "\n",
    "# Generate a random number between 1 and 10\n",
    "secret_number = random.randint(1, 10)\n",
    "\n",
    "# Initialize variables\n",
    "guess = 0\n",
    "attempts = 0\n",
    "\n",
    "# Main game loop\n",
    "while guess != secret_number:\n",
    "    try:\n",
    "        guess = int(input(\"Guess the number between 1 and 10: \"))\n",
    "        attempts += 1\n",
    "\n",
    "        if guess < secret_number:\n",
    "            print(\"The secret number is higher.\")\n",
    "        elif guess > secret_number:\n",
    "            print(\"The secret number is lower.\")\n",
    "    except ValueError:\n",
    "        print(\"Please enter a valid number between 1 and 10.\")\n",
    "\n",
    "# If the loop exits, the user guessed correctly\n",
    "print(f\"Congratulations! You guessed the correct number {secret_number} in {attempts} attempts.\")\n"
   ]
  },
  {
   "cell_type": "code",
   "execution_count": 3,
   "id": "e36b4cf5",
   "metadata": {},
   "outputs": [
    {
     "name": "stdout",
     "output_type": "stream",
     "text": [
      "Mean score: 83.8\n",
      "Median score: 85.0\n",
      "Mode of the scores: 75\n",
      "The data is skewed to the left.\n"
     ]
    }
   ],
   "source": [
    "import statistics as st\n",
    "from scipy.stats import skew\n",
    "\n",
    "data_points = [75, 82, 90, 68, 88, 78, 92, 85, 95, 72, 80, 88, 98, 75, 86, 94, 89, 79, 85, 77]\n",
    "\n",
    "# Calculate the mean (average) score\n",
    "mean_score = st.mean(data_points)\n",
    "print(\"Mean score:\", mean_score)\n",
    "\n",
    "# Calculate the median score\n",
    "median_score = st.median(data_points)\n",
    "print(\"Median score:\", median_score)\n",
    "\n",
    "# Calculate the mode of the scores\n",
    "mode_score = st.mode(data_points)\n",
    "print(\"Mode of the scores:\", mode_score)\n",
    "\n",
    "# Calculate the skewness\n",
    "skewness = skew(data_points)\n",
    "if skewness > 0:\n",
    "    print(\"The data is skewed to the right.\")\n",
    "elif skewness < 0:\n",
    "    print(\"The data is skewed to the left.\")\n",
    "else:\n",
    "    print(\"The data is normally distributed.\")\n"
   ]
  },
  {
   "cell_type": "code",
   "execution_count": null,
   "id": "c7eae287",
   "metadata": {},
   "outputs": [],
   "source": []
  }
 ],
 "metadata": {
  "kernelspec": {
   "display_name": "AI",
   "language": "python",
   "name": "ai"
  },
  "language_info": {
   "codemirror_mode": {
    "name": "ipython",
    "version": 3
   },
   "file_extension": ".py",
   "mimetype": "text/x-python",
   "name": "python",
   "nbconvert_exporter": "python",
   "pygments_lexer": "ipython3",
   "version": "3.8.17"
  }
 },
 "nbformat": 4,
 "nbformat_minor": 5
}
