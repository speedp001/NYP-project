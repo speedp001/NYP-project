{
 "cells": [
  {
   "cell_type": "markdown",
   "metadata": {
    "id": "Gc8x8QimJY_H"
   },
   "source": [
    "\n",
    "# Practical 7\n",
    "# Case Study"
   ]
  },
  {
   "cell_type": "markdown",
   "metadata": {
    "id": "NqikjkWwJY_L"
   },
   "source": [
    "### Context\n",
    "\n",
    "More and more restaurants are popping up in New York, and busy folks like students and professionals rely on them because of their hectic schedules. Food delivery apps, like FoodHub, make life easier by letting you order from various restaurants all in one place on your phone.\n",
    "\n",
    "Here's how it works: You order directly through the app, and once the restaurant confirms it, a delivery person from FoodHub is assigned to pick it up. The delivery person uses the app's map to get to the restaurant, picks up the food, and confirms the pick-up on the app. Then, they head over to you to drop off the deliciousness. After handing over the food, they confirm the delivery on the app. You can rate your order, and FoodHub makes money by taking a cut from the delivery charge paid by the restaurant. \n",
    "\n",
    "### Objective\n",
    "\n",
    "The company saved info about orders from their customers on their website. They want to check the data to understand which restaurants are popular, aiming to make customers happier. **Pretend you're a Data Scientist on their team, and they've got specific questions. Analyze the data to help them make their business better.**\n",
    "\n",
    "### Data Description\n",
    "\n",
    "The data contains the different data related to a food order. The detailed data dictionary is given below.\n",
    "\n",
    "### Data Dictionary\n",
    "\n",
    "* order_id: Unique ID of the order\n",
    "* customer_id: ID of the customer who ordered the food\n",
    "* restaurant_name: Name of the restaurant\n",
    "* cuisine_type: Cuisine ordered by the customer\n",
    "* cost: Cost of the order\n",
    "* day_of_the_week: Indicates whether the order is placed on a weekday or weekend (The weekday is from Monday to Friday and the weekend is Saturday and Sunday)\n",
    "* rating: Rating given by the customer out of 5\n",
    "* food_preparation_time: Time (in minutes) taken by the restaurant to prepare the food. This is calculated by taking the difference between the timestamps of the restaurant's order confirmation and the delivery person's pick-up confirmation.\n",
    "* delivery_time: Time (in minutes) taken by the delivery person to deliver the food package. This is calculated by taking the difference between the timestamps of the delivery person's pick-up confirmation and drop-off information"
   ]
  },
  {
   "cell_type": "markdown",
   "metadata": {
    "id": "cEtNUxNAJY_M"
   },
   "source": [
    "### Let us start by importing the required libraries"
   ]
  },
  {
   "cell_type": "code",
   "execution_count": 1,
   "metadata": {
    "executionInfo": {
     "elapsed": 381,
     "status": "ok",
     "timestamp": 1696745346785,
     "user": {
      "displayName": "Seng Meng Boon",
      "userId": "03138883133015100841"
     },
     "user_tz": -480
    },
    "id": "u6PlpJAPJY_N"
   },
   "outputs": [],
   "source": [
    "# import libraries for data manipulation\n",
    "import numpy as np\n",
    "import pandas as pd\n",
    "\n",
    "# import libraries for data visualization\n",
    "import matplotlib.pyplot as plt\n",
    "import seaborn as sns\n",
    "\n",
    "# Current version of Seaborn generates a bunch of warnings that we'll ignore in this tutorial\n",
    "import warnings \n",
    "warnings.filterwarnings(\"ignore\")\n",
    "\n",
    "# Command to tell Python to actually display the graphs\n",
    "%matplotlib inline\n",
    "sns.set()"
   ]
  },
  {
   "cell_type": "markdown",
   "metadata": {
    "id": "AdracY0HJY_O"
   },
   "source": [
    "### Understanding the structure of the data"
   ]
  },
  {
   "cell_type": "code",
   "execution_count": 3,
   "metadata": {
    "colab": {
     "base_uri": "https://localhost:8080/",
     "height": 258
    },
    "executionInfo": {
     "elapsed": 19,
     "status": "ok",
     "timestamp": 1696745349681,
     "user": {
      "displayName": "Seng Meng Boon",
      "userId": "03138883133015100841"
     },
     "user_tz": -480
    },
    "id": "GF01IZDbJY_O",
    "outputId": "80b9c89f-5b6d-4f5d-b870-ee5f87118d4d",
    "scrolled": true
   },
   "outputs": [
    {
     "data": {
      "text/html": [
       "<div>\n",
       "<style scoped>\n",
       "    .dataframe tbody tr th:only-of-type {\n",
       "        vertical-align: middle;\n",
       "    }\n",
       "\n",
       "    .dataframe tbody tr th {\n",
       "        vertical-align: top;\n",
       "    }\n",
       "\n",
       "    .dataframe thead th {\n",
       "        text-align: right;\n",
       "    }\n",
       "</style>\n",
       "<table border=\"1\" class=\"dataframe\">\n",
       "  <thead>\n",
       "    <tr style=\"text-align: right;\">\n",
       "      <th></th>\n",
       "      <th>order_id</th>\n",
       "      <th>customer_id</th>\n",
       "      <th>restaurant_name</th>\n",
       "      <th>cuisine_type</th>\n",
       "      <th>cost_of_the_order</th>\n",
       "      <th>day_of_the_week</th>\n",
       "      <th>rating</th>\n",
       "      <th>food_preparation_time</th>\n",
       "      <th>delivery_time</th>\n",
       "    </tr>\n",
       "  </thead>\n",
       "  <tbody>\n",
       "    <tr>\n",
       "      <th>0</th>\n",
       "      <td>1477147</td>\n",
       "      <td>337525</td>\n",
       "      <td>Hangawi</td>\n",
       "      <td>Korean</td>\n",
       "      <td>30.75</td>\n",
       "      <td>Weekend</td>\n",
       "      <td>Not given</td>\n",
       "      <td>25</td>\n",
       "      <td>20</td>\n",
       "    </tr>\n",
       "    <tr>\n",
       "      <th>1</th>\n",
       "      <td>1477685</td>\n",
       "      <td>358141</td>\n",
       "      <td>Blue Ribbon Sushi Izakaya</td>\n",
       "      <td>Japanese</td>\n",
       "      <td>12.08</td>\n",
       "      <td>Weekend</td>\n",
       "      <td>Not given</td>\n",
       "      <td>25</td>\n",
       "      <td>23</td>\n",
       "    </tr>\n",
       "    <tr>\n",
       "      <th>2</th>\n",
       "      <td>1477070</td>\n",
       "      <td>66393</td>\n",
       "      <td>Cafe Habana</td>\n",
       "      <td>Mexican</td>\n",
       "      <td>12.23</td>\n",
       "      <td>Weekday</td>\n",
       "      <td>5</td>\n",
       "      <td>23</td>\n",
       "      <td>28</td>\n",
       "    </tr>\n",
       "    <tr>\n",
       "      <th>3</th>\n",
       "      <td>1477334</td>\n",
       "      <td>106968</td>\n",
       "      <td>Blue Ribbon Fried Chicken</td>\n",
       "      <td>American</td>\n",
       "      <td>29.20</td>\n",
       "      <td>Weekend</td>\n",
       "      <td>3</td>\n",
       "      <td>25</td>\n",
       "      <td>15</td>\n",
       "    </tr>\n",
       "    <tr>\n",
       "      <th>4</th>\n",
       "      <td>1478249</td>\n",
       "      <td>76942</td>\n",
       "      <td>Dirty Bird to Go</td>\n",
       "      <td>American</td>\n",
       "      <td>11.59</td>\n",
       "      <td>Weekday</td>\n",
       "      <td>4</td>\n",
       "      <td>25</td>\n",
       "      <td>24</td>\n",
       "    </tr>\n",
       "  </tbody>\n",
       "</table>\n",
       "</div>"
      ],
      "text/plain": [
       "   order_id  customer_id            restaurant_name cuisine_type   \n",
       "0   1477147       337525                    Hangawi       Korean  \\\n",
       "1   1477685       358141  Blue Ribbon Sushi Izakaya     Japanese   \n",
       "2   1477070        66393                Cafe Habana      Mexican   \n",
       "3   1477334       106968  Blue Ribbon Fried Chicken     American   \n",
       "4   1478249        76942           Dirty Bird to Go     American   \n",
       "\n",
       "   cost_of_the_order day_of_the_week     rating  food_preparation_time   \n",
       "0              30.75         Weekend  Not given                     25  \\\n",
       "1              12.08         Weekend  Not given                     25   \n",
       "2              12.23         Weekday          5                     23   \n",
       "3              29.20         Weekend          3                     25   \n",
       "4              11.59         Weekday          4                     25   \n",
       "\n",
       "   delivery_time  \n",
       "0             20  \n",
       "1             23  \n",
       "2             28  \n",
       "3             15  \n",
       "4             24  "
      ]
     },
     "execution_count": 3,
     "metadata": {},
     "output_type": "execute_result"
    }
   ],
   "source": [
    "# read the data\n",
    "df = pd.read_csv('../data/foodhub_order.csv')\n",
    "# returns the first 5 rows\n",
    "df.head()"
   ]
  },
  {
   "cell_type": "markdown",
   "metadata": {
    "id": "J_Y9aJDJJY_P"
   },
   "source": [
    "### Observations:\n",
    "\n",
    "The DataFrame has 9 columns as mentioned in the Data Dictionary. Data in each row corresponds to the order placed by a customer."
   ]
  },
  {
   "cell_type": "markdown",
   "metadata": {
    "id": "c3kenV4vJY_Q"
   },
   "source": [
    "### **Question 1:** How many rows and columns are present in the data?"
   ]
  },
  {
   "cell_type": "code",
   "execution_count": 4,
   "metadata": {
    "colab": {
     "base_uri": "https://localhost:8080/"
    },
    "executionInfo": {
     "elapsed": 17,
     "status": "ok",
     "timestamp": 1696745349681,
     "user": {
      "displayName": "Seng Meng Boon",
      "userId": "03138883133015100841"
     },
     "user_tz": -480
    },
    "id": "Yvz5i-PhJY_Q",
    "outputId": "e6de233c-31bc-4362-8a22-4ac4d1496fca"
   },
   "outputs": [
    {
     "name": "stdout",
     "output_type": "stream",
     "text": [
      "Number of rows: 1898\n",
      "Number of columns: 9\n"
     ]
    }
   ],
   "source": [
    "# Write your code here\n",
    "# Get the number of rows and columns\n",
    "num_rows, num_columns = df.shape\n",
    "\n",
    "# Print the results\n",
    "print(f'Number of rows: {num_rows}')\n",
    "print(f'Number of columns: {num_columns}')"
   ]
  },
  {
   "cell_type": "markdown",
   "metadata": {
    "id": "UsTNy3unJY_R"
   },
   "source": [
    "### Observations: There is a total of 1898 rows and 9 columns."
   ]
  },
  {
   "cell_type": "markdown",
   "metadata": {
    "id": "jRXakVrUJY_R"
   },
   "source": [
    "### **Question 2:** What are the datatypes of the different columns in the dataset? (The info() function can be used)"
   ]
  },
  {
   "cell_type": "code",
   "execution_count": 5,
   "metadata": {
    "colab": {
     "base_uri": "https://localhost:8080/"
    },
    "executionInfo": {
     "elapsed": 15,
     "status": "ok",
     "timestamp": 1696745349681,
     "user": {
      "displayName": "Seng Meng Boon",
      "userId": "03138883133015100841"
     },
     "user_tz": -480
    },
    "id": "Kp70Z0BNJY_R",
    "outputId": "06918c6b-0e49-474a-f5fd-5e1fd608d278"
   },
   "outputs": [
    {
     "data": {
      "text/plain": [
       "<bound method DataFrame.info of       order_id  customer_id                        restaurant_name   \n",
       "0      1477147       337525                                Hangawi  \\\n",
       "1      1477685       358141              Blue Ribbon Sushi Izakaya   \n",
       "2      1477070        66393                            Cafe Habana   \n",
       "3      1477334       106968              Blue Ribbon Fried Chicken   \n",
       "4      1478249        76942                       Dirty Bird to Go   \n",
       "...        ...          ...                                    ...   \n",
       "1893   1476701       292602  Chipotle Mexican Grill $1.99 Delivery   \n",
       "1894   1477421       397537                              The Smile   \n",
       "1895   1477819        35309                      Blue Ribbon Sushi   \n",
       "1896   1477513        64151                      Jack's Wife Freda   \n",
       "1897   1478056       120353                      Blue Ribbon Sushi   \n",
       "\n",
       "       cuisine_type  cost_of_the_order day_of_the_week     rating   \n",
       "0            Korean              30.75         Weekend  Not given  \\\n",
       "1          Japanese              12.08         Weekend  Not given   \n",
       "2           Mexican              12.23         Weekday          5   \n",
       "3          American              29.20         Weekend          3   \n",
       "4          American              11.59         Weekday          4   \n",
       "...             ...                ...             ...        ...   \n",
       "1893        Mexican              22.31         Weekend          5   \n",
       "1894       American              12.18         Weekend          5   \n",
       "1895       Japanese              25.22         Weekday  Not given   \n",
       "1896  Mediterranean              12.18         Weekday          5   \n",
       "1897       Japanese              19.45         Weekend  Not given   \n",
       "\n",
       "      food_preparation_time  delivery_time  \n",
       "0                        25             20  \n",
       "1                        25             23  \n",
       "2                        23             28  \n",
       "3                        25             15  \n",
       "4                        25             24  \n",
       "...                     ...            ...  \n",
       "1893                     31             17  \n",
       "1894                     31             19  \n",
       "1895                     31             24  \n",
       "1896                     23             31  \n",
       "1897                     28             24  \n",
       "\n",
       "[1898 rows x 9 columns]>"
      ]
     },
     "execution_count": 5,
     "metadata": {},
     "output_type": "execute_result"
    }
   ],
   "source": [
    "# Use info() to print a concise summary of the DataFrame\n",
    "df.info"
   ]
  },
  {
   "cell_type": "markdown",
   "metadata": {
    "id": "WJes5GP2JY_S"
   },
   "source": [
    "### Observations: We have 4 numerical columns , 4 object type columns 1 float. Rating shows as an object whereas it has been described as an integer out of 5\n"
   ]
  },
  {
   "cell_type": "markdown",
   "metadata": {
    "id": "pF_92MN6JY_S"
   },
   "source": [
    "### **Question 3:** Are there any missing values in the data? If yes, treat them using an appropriate method"
   ]
  },
  {
   "cell_type": "code",
   "execution_count": 6,
   "metadata": {
    "colab": {
     "base_uri": "https://localhost:8080/"
    },
    "executionInfo": {
     "elapsed": 13,
     "status": "ok",
     "timestamp": 1696745349681,
     "user": {
      "displayName": "Seng Meng Boon",
      "userId": "03138883133015100841"
     },
     "user_tz": -480
    },
    "id": "Zth-RR1PJY_S",
    "outputId": "1417a71d-df6e-41de-d52b-f7013b8e1c97"
   },
   "outputs": [
    {
     "data": {
      "text/plain": [
       "order_id                 0\n",
       "customer_id              0\n",
       "restaurant_name          0\n",
       "cuisine_type             0\n",
       "cost_of_the_order        0\n",
       "day_of_the_week          0\n",
       "rating                   0\n",
       "food_preparation_time    0\n",
       "delivery_time            0\n",
       "dtype: int64"
      ]
     },
     "execution_count": 6,
     "metadata": {},
     "output_type": "execute_result"
    }
   ],
   "source": [
    "# Write your code here\n",
    "# Checking about null data\n",
    "df.isnull().sum()"
   ]
  },
  {
   "cell_type": "markdown",
   "metadata": {
    "id": "jDHT3vD1JY_S"
   },
   "source": [
    "### Observations: There are no missing value in the dataset"
   ]
  },
  {
   "cell_type": "markdown",
   "metadata": {
    "id": "MnJo7MWrJY_S"
   },
   "source": [
    "### **Question 4:** Check the statistical summary of the data. What is the minimum, average, and maximum time it takes for food to be prepared once an order is placed?"
   ]
  },
  {
   "cell_type": "code",
   "execution_count": 7,
   "metadata": {
    "colab": {
     "base_uri": "https://localhost:8080/",
     "height": 300
    },
    "executionInfo": {
     "elapsed": 12,
     "status": "ok",
     "timestamp": 1696745349681,
     "user": {
      "displayName": "Seng Meng Boon",
      "userId": "03138883133015100841"
     },
     "user_tz": -480
    },
    "id": "WprQBgOSJY_T",
    "outputId": "9a849aee-5bae-4c09-c9ab-cdfac57d128b"
   },
   "outputs": [
    {
     "data": {
      "text/html": [
       "<div>\n",
       "<style scoped>\n",
       "    .dataframe tbody tr th:only-of-type {\n",
       "        vertical-align: middle;\n",
       "    }\n",
       "\n",
       "    .dataframe tbody tr th {\n",
       "        vertical-align: top;\n",
       "    }\n",
       "\n",
       "    .dataframe thead th {\n",
       "        text-align: right;\n",
       "    }\n",
       "</style>\n",
       "<table border=\"1\" class=\"dataframe\">\n",
       "  <thead>\n",
       "    <tr style=\"text-align: right;\">\n",
       "      <th></th>\n",
       "      <th>count</th>\n",
       "      <th>mean</th>\n",
       "      <th>std</th>\n",
       "      <th>min</th>\n",
       "      <th>25%</th>\n",
       "      <th>50%</th>\n",
       "      <th>75%</th>\n",
       "      <th>max</th>\n",
       "    </tr>\n",
       "  </thead>\n",
       "  <tbody>\n",
       "    <tr>\n",
       "      <th>order_id</th>\n",
       "      <td>1898.0</td>\n",
       "      <td>1.477496e+06</td>\n",
       "      <td>548.049724</td>\n",
       "      <td>1476547.00</td>\n",
       "      <td>1477021.25</td>\n",
       "      <td>1477495.50</td>\n",
       "      <td>1.477970e+06</td>\n",
       "      <td>1478444.00</td>\n",
       "    </tr>\n",
       "    <tr>\n",
       "      <th>customer_id</th>\n",
       "      <td>1898.0</td>\n",
       "      <td>1.711685e+05</td>\n",
       "      <td>113698.139743</td>\n",
       "      <td>1311.00</td>\n",
       "      <td>77787.75</td>\n",
       "      <td>128600.00</td>\n",
       "      <td>2.705250e+05</td>\n",
       "      <td>405334.00</td>\n",
       "    </tr>\n",
       "    <tr>\n",
       "      <th>cost_of_the_order</th>\n",
       "      <td>1898.0</td>\n",
       "      <td>1.649885e+01</td>\n",
       "      <td>7.483812</td>\n",
       "      <td>4.47</td>\n",
       "      <td>12.08</td>\n",
       "      <td>14.14</td>\n",
       "      <td>2.229750e+01</td>\n",
       "      <td>35.41</td>\n",
       "    </tr>\n",
       "    <tr>\n",
       "      <th>food_preparation_time</th>\n",
       "      <td>1898.0</td>\n",
       "      <td>2.737197e+01</td>\n",
       "      <td>4.632481</td>\n",
       "      <td>20.00</td>\n",
       "      <td>23.00</td>\n",
       "      <td>27.00</td>\n",
       "      <td>3.100000e+01</td>\n",
       "      <td>35.00</td>\n",
       "    </tr>\n",
       "    <tr>\n",
       "      <th>delivery_time</th>\n",
       "      <td>1898.0</td>\n",
       "      <td>2.416175e+01</td>\n",
       "      <td>4.972637</td>\n",
       "      <td>15.00</td>\n",
       "      <td>20.00</td>\n",
       "      <td>25.00</td>\n",
       "      <td>2.800000e+01</td>\n",
       "      <td>33.00</td>\n",
       "    </tr>\n",
       "  </tbody>\n",
       "</table>\n",
       "</div>"
      ],
      "text/plain": [
       "                        count          mean            std         min   \n",
       "order_id               1898.0  1.477496e+06     548.049724  1476547.00  \\\n",
       "customer_id            1898.0  1.711685e+05  113698.139743     1311.00   \n",
       "cost_of_the_order      1898.0  1.649885e+01       7.483812        4.47   \n",
       "food_preparation_time  1898.0  2.737197e+01       4.632481       20.00   \n",
       "delivery_time          1898.0  2.416175e+01       4.972637       15.00   \n",
       "\n",
       "                              25%         50%           75%         max  \n",
       "order_id               1477021.25  1477495.50  1.477970e+06  1478444.00  \n",
       "customer_id              77787.75   128600.00  2.705250e+05   405334.00  \n",
       "cost_of_the_order           12.08       14.14  2.229750e+01       35.41  \n",
       "food_preparation_time       23.00       27.00  3.100000e+01       35.00  \n",
       "delivery_time               20.00       25.00  2.800000e+01       33.00  "
      ]
     },
     "execution_count": 7,
     "metadata": {},
     "output_type": "execute_result"
    }
   ],
   "source": [
    "# Write your code here\n",
    "# See the current data distribution of each attributes\n",
    "df.describe().T"
   ]
  },
  {
   "cell_type": "markdown",
   "metadata": {
    "id": "9YbSOR5wJY_T"
   },
   "source": [
    "### Observations: Average cost of the order is 16.50,the and maximum is 4.47 and $35.41 respectively. Minimum food preparation is 20 minute with the minimum delivery time of 15 minutes\n"
   ]
  },
  {
   "cell_type": "markdown",
   "metadata": {
    "id": "cw3l58z_JY_T"
   },
   "source": [
    "### **Question 5:** How many orders are not rated?"
   ]
  },
  {
   "cell_type": "code",
   "execution_count": 8,
   "metadata": {
    "colab": {
     "base_uri": "https://localhost:8080/"
    },
    "executionInfo": {
     "elapsed": 11,
     "status": "ok",
     "timestamp": 1696745349681,
     "user": {
      "displayName": "Seng Meng Boon",
      "userId": "03138883133015100841"
     },
     "user_tz": -480
    },
    "id": "hEzDUL9wgksi",
    "outputId": "b25615c2-b1fe-4e98-d65a-02ea6778a82e"
   },
   "outputs": [
    {
     "name": "stdout",
     "output_type": "stream",
     "text": [
      "rating\n",
      "Not given    736\n",
      "5            588\n",
      "4            386\n",
      "3            188\n",
      "Name: count, dtype: int64\n"
     ]
    }
   ],
   "source": [
    "# Write the code here\n",
    "print(df['rating'].value_counts())"
   ]
  },
  {
   "cell_type": "code",
   "execution_count": 9,
   "metadata": {
    "colab": {
     "base_uri": "https://localhost:8080/"
    },
    "executionInfo": {
     "elapsed": 10,
     "status": "ok",
     "timestamp": 1696745349681,
     "user": {
      "displayName": "Seng Meng Boon",
      "userId": "03138883133015100841"
     },
     "user_tz": -480
    },
    "id": "IQncVRSuGs91",
    "outputId": "4f1f54ad-0ef6-41d8-ebcd-db0f7b4d38b5"
   },
   "outputs": [
    {
     "name": "stdout",
     "output_type": "stream",
     "text": [
      "order_id  customer_id  restaurant_name        cuisine_type   cost_of_the_order  day_of_the_week  rating     food_preparation_time  delivery_time\n",
      "1476551   49034        The Smile              American       12.18              Weekend          Not given  22                     27               1\n",
      "1477772   91958        TAO                    Japanese       12.18              Weekday          Not given  26                     33               1\n",
      "1477753   65306        Sushi of Gari Tribeca  Japanese       14.79              Weekend          Not given  32                     24               1\n",
      "1477756   251607       Shake Shack            American       14.12              Weekday          Not given  31                     28               1\n",
      "1477757   60688        Shake Shack            American       14.12              Weekend          Not given  29                     30               1\n",
      "                                                                                                                                                   ..\n",
      "1477128   354016       Waverly Diner          American       14.94              Weekend          Not given  28                     28               1\n",
      "1477129   52832        Han Dynasty            Chinese        19.30              Weekend          Not given  34                     21               1\n",
      "1477133   175290       Shake Shack            American       12.18              Weekend          Not given  26                     25               1\n",
      "1477135   62359        Pylos                  Mediterranean  19.40              Weekend          Not given  28                     29               1\n",
      "1478441   228541       RedFarm Hudson         Chinese        29.10              Weekend          Not given  27                     28               1\n",
      "Name: count, Length: 736, dtype: int64\n"
     ]
    }
   ],
   "source": [
    "# Select rows where 'rating' is \"Not given\"\n",
    "not_given_rows = df[df['rating'] == 'Not given']\n",
    "# Print the result\n",
    "print(not_given_rows.value_counts())"
   ]
  },
  {
   "cell_type": "code",
   "execution_count": 10,
   "metadata": {
    "colab": {
     "base_uri": "https://localhost:8080/"
    },
    "executionInfo": {
     "elapsed": 9,
     "status": "ok",
     "timestamp": 1696745349681,
     "user": {
      "displayName": "Seng Meng Boon",
      "userId": "03138883133015100841"
     },
     "user_tz": -480
    },
    "id": "jzd5oni8IiI6",
    "outputId": "ee7db9bf-669a-4678-fe24-e6e1c775d5f6"
   },
   "outputs": [
    {
     "name": "stdout",
     "output_type": "stream",
     "text": [
      "Count of 'Not given' ratings: 736\n"
     ]
    }
   ],
   "source": [
    "# Print the count of \"Not given\" ratings\n",
    "print(\"Count of 'Not given' ratings:\", len(not_given_rows))"
   ]
  },
  {
   "cell_type": "markdown",
   "metadata": {
    "id": "5E0O_oviJY_T"
   },
   "source": [
    "### Observations: 736 orders were not not rated. 39% of our ratings are not given. It will be risky to impute the ratings because a high number of ratings will be based on imputed data."
   ]
  },
  {
   "cell_type": "markdown",
   "metadata": {
    "id": "7msIfXE-JY_T"
   },
   "source": [
    "## Exploratory Data Analysis (EDA)"
   ]
  },
  {
   "cell_type": "markdown",
   "metadata": {
    "id": "-2xfI28YJY_T"
   },
   "source": [
    "### Univariate Analysis"
   ]
  },
  {
   "cell_type": "markdown",
   "metadata": {
    "id": "0RHZnugBJY_U"
   },
   "source": [
    "### **Question 6:** Explore all the variables and provide observations on their distributions. (Generally, histograms, boxplots, countplots, etc. are used for univariate exploration)"
   ]
  },
  {
   "cell_type": "code",
   "execution_count": 11,
   "metadata": {
    "colab": {
     "base_uri": "https://localhost:8080/"
    },
    "executionInfo": {
     "elapsed": 8,
     "status": "ok",
     "timestamp": 1696745349681,
     "user": {
      "displayName": "Seng Meng Boon",
      "userId": "03138883133015100841"
     },
     "user_tz": -480
    },
    "id": "rU5ZqISjJY_U",
    "outputId": "dd0ff594-99ff-45bf-ad78-dbed63f2f270"
   },
   "outputs": [
    {
     "data": {
      "text/plain": [
       "order_id                   int64\n",
       "customer_id                int64\n",
       "restaurant_name           object\n",
       "cuisine_type              object\n",
       "cost_of_the_order        float64\n",
       "day_of_the_week           object\n",
       "rating                    object\n",
       "food_preparation_time      int64\n",
       "delivery_time              int64\n",
       "dtype: object"
      ]
     },
     "execution_count": 11,
     "metadata": {},
     "output_type": "execute_result"
    }
   ],
   "source": [
    "# Write the code here\n",
    "df.dtypes"
   ]
  },
  {
   "cell_type": "code",
   "execution_count": 12,
   "metadata": {
    "colab": {
     "base_uri": "https://localhost:8080/"
    },
    "executionInfo": {
     "elapsed": 7,
     "status": "ok",
     "timestamp": 1696745349681,
     "user": {
      "displayName": "Seng Meng Boon",
      "userId": "03138883133015100841"
     },
     "user_tz": -480
    },
    "id": "ptRSSTWNWOAt",
    "outputId": "d41917d2-6115-4dac-cb17-db2645925c05"
   },
   "outputs": [
    {
     "data": {
      "text/plain": [
       "order_id                   object\n",
       "customer_id                object\n",
       "restaurant_name            object\n",
       "cuisine_type             category\n",
       "cost_of_the_order         float64\n",
       "day_of_the_week          category\n",
       "rating                     object\n",
       "food_preparation_time       int64\n",
       "delivery_time               int64\n",
       "dtype: object"
      ]
     },
     "execution_count": 12,
     "metadata": {},
     "output_type": "execute_result"
    }
   ],
   "source": [
    "# Convert 'cuisine_type', 'day_of_the_week' to category\n",
    "# Convert Ids to string\n",
    "df= df.astype({'order_id': str, 'customer_id': str, 'cuisine_type':'category','day_of_the_week':'category'})\n",
    "df.dtypes"
   ]
  },
  {
   "cell_type": "code",
   "execution_count": 13,
   "metadata": {
    "colab": {
     "base_uri": "https://localhost:8080/",
     "height": 576
    },
    "executionInfo": {
     "elapsed": 643,
     "status": "ok",
     "timestamp": 1696745350318,
     "user": {
      "displayName": "Seng Meng Boon",
      "userId": "03138883133015100841"
     },
     "user_tz": -480
    },
    "id": "DeYuMc7gT_Bd",
    "outputId": "cdfff5af-4d83-4ae9-fb75-3ede6bcf8b9e"
   },
   "outputs": [
    {
     "data": {
      "image/png": "[encoded data removed]",
      "text/plain": [
       "<Figure size 1000x500 with 1 Axes>"
      ]
     },
     "metadata": {},
     "output_type": "display_data"
    }
   ],
   "source": [
    "# countplot of all the cuisine types.\n",
    "\n",
    "# Set the overall figure size\n",
    "# Adjust the width and height as needed\n",
    "plt.figure(figsize=(10, 5))\n",
    "sns.countplot(data=df, x = 'cuisine_type', dodge=False,order=df['cuisine_type'].value_counts().index);\n",
    "\n",
    "# Adding count labels\n",
    "for p in plt.gca().patches:\n",
    "    height = p.get_height()\n",
    "    plt.text(p.get_x() + p.get_width() / 2., height + 0.1,\n",
    "             f'{int(height)}', ha=\"center\")\n",
    "\n",
    "# Adding labels\n",
    "plt.xlabel('Cusine Type')\n",
    "plt.ylabel('Count')\n",
    "plt.title('Count Distribution of Cusine Type')\n",
    "plt.xticks(rotation= 90);"
   ]
  },
  {
   "cell_type": "markdown",
   "metadata": {
    "id": "-I2VFLNxVD-H"
   },
   "source": [
    "### Observations: The American, Japanese, Italian and Chinese cuisines are the popular cuisines respectively"
   ]
  },
  {
   "cell_type": "code",
   "execution_count": 14,
   "metadata": {
    "colab": {
     "base_uri": "https://localhost:8080/",
     "height": 410
    },
    "executionInfo": {
     "elapsed": 910,
     "status": "ok",
     "timestamp": 1696745351224,
     "user": {
      "displayName": "Seng Meng Boon",
      "userId": "03138883133015100841"
     },
     "user_tz": -480
    },
    "id": "30DCrTX7qIxm",
    "outputId": "5875e04f-1894-4af2-d007-a6c8912fd6ba"
   },
   "outputs": [
    {
     "data": {
      "image/png": "[encoded data removed]",
      "text/plain": [
       "<Figure size 1200x400 with 2 Axes>"
      ]
     },
     "metadata": {},
     "output_type": "display_data"
    }
   ],
   "source": [
    "fig2, a2 = plt.subplots(1, 2, figsize=(12, 4))\n",
    "\n",
    "# First subplot - Histogram\n",
    "a2[0].set_title('Cost of The Order')\n",
    "sns.histplot(df['cost_of_the_order'], ax=a2[0], kde=True,bins=30)\n",
    "a2[0].set_xlabel('Cost of The Order')\n",
    "\n",
    "# Second subplot - Boxplot\n",
    "a2[1].set_title('Cost of The Order')\n",
    "sns.boxplot(x='cost_of_the_order', data=df, showmeans=True, ax=a2[1])\n",
    "a2[1].set(xlabel='Cost of The Order')\n",
    "\n",
    "plt.show()"
   ]
  },
  {
   "cell_type": "code",
   "execution_count": 15,
   "metadata": {
    "colab": {
     "base_uri": "https://localhost:8080/",
     "height": 333
    },
    "executionInfo": {
     "elapsed": 8,
     "status": "ok",
     "timestamp": 1696745351224,
     "user": {
      "displayName": "Seng Meng Boon",
      "userId": "03138883133015100841"
     },
     "user_tz": -480
    },
    "id": "deUcK-YEVoyY",
    "outputId": "d1354257-a438-4d93-ac51-be5daad2d8b9"
   },
   "outputs": [
    {
     "data": {
      "image/png": "[encoded data removed]",
      "text/plain": [
       "<Figure size 500x300 with 1 Axes>"
      ]
     },
     "metadata": {},
     "output_type": "display_data"
    }
   ],
   "source": [
    "## Count of ratings\n",
    "total_count = len(df['rating'])\n",
    "\n",
    "# Adjust the width and height as needed\n",
    "plt.figure(figsize=(5, 3))\n",
    "\n",
    "# Create a countplot with actual counts\n",
    "sns.countplot(x='rating', data=df, dodge=False,order=df['rating'].value_counts().index)\n",
    "\n",
    "# Adding count labels\n",
    "for p in plt.gca().patches:\n",
    "    height = p.get_height()\n",
    "    plt.text(p.get_x() + p.get_width() / 2., height + 0.1,\n",
    "             f'{int(height)}', ha=\"center\")\n",
    "\n",
    "# Adding labels\n",
    "plt.xlabel('Rating')\n",
    "plt.ylabel('Count')\n",
    "plt.title('Count Distribution of Rating')\n",
    "\n",
    "# Display the plot\n",
    "plt.show()"
   ]
  },
  {
   "cell_type": "code",
   "execution_count": 16,
   "metadata": {
    "colab": {
     "base_uri": "https://localhost:8080/",
     "height": 333
    },
    "executionInfo": {
     "elapsed": 598,
     "status": "ok",
     "timestamp": 1696745351816,
     "user": {
      "displayName": "Seng Meng Boon",
      "userId": "03138883133015100841"
     },
     "user_tz": -480
    },
    "id": "6OkvBCP7Ui2i",
    "outputId": "fad5c2bb-2883-48e8-f9d7-27fc10c13709"
   },
   "outputs": [
    {
     "data": {
      "image/png": "[encoded data removed]",
      "text/plain": [
       "<Figure size 500x300 with 1 Axes>"
      ]
     },
     "metadata": {},
     "output_type": "display_data"
    }
   ],
   "source": [
    "# Assuming df is your DataFrame\n",
    "total_count = len(df['rating'])\n",
    "\n",
    "# Adjust the width and height as needed\n",
    "plt.figure(figsize=(5, 3))\n",
    "\n",
    "# Create a countplot with percentages\n",
    "sns.countplot(x='rating', data=df, dodge=False,order=df['rating'].value_counts().index)\n",
    "\n",
    "# Adding percentage labels\n",
    "for p in plt.gca().patches:\n",
    "    height = p.get_height()\n",
    "    plt.text(p.get_x() + p.get_width() / 2., height + 0.1,\n",
    "             f'{height/total_count:.1%}', ha=\"center\")\n",
    "\n",
    "# Adding labels\n",
    "plt.xlabel('Rating')\n",
    "plt.ylabel('Percentage')\n",
    "plt.title('Percentage Distribution of Rating')\n",
    "\n",
    "# Display the plot\n",
    "plt.show()"
   ]
  },
  {
   "cell_type": "markdown",
   "metadata": {
    "id": "-cmxFDiqYAIB"
   },
   "source": [
    "### Observations on the Rating:\n",
    "### There is about 38.8% of the customers without any rating given"
   ]
  },
  {
   "cell_type": "code",
   "execution_count": 17,
   "metadata": {
    "colab": {
     "base_uri": "https://localhost:8080/",
     "height": 363
    },
    "executionInfo": {
     "elapsed": 11,
     "status": "ok",
     "timestamp": 1696745351816,
     "user": {
      "displayName": "Seng Meng Boon",
      "userId": "03138883133015100841"
     },
     "user_tz": -480
    },
    "id": "2EUFII0NNTGY",
    "outputId": "fa7ad3b1-ac12-4e15-dcba-b29ca2757228"
   },
   "outputs": [
    {
     "data": {
      "image/png": "[encoded data removed]",
      "text/plain": [
       "<Figure size 500x300 with 1 Axes>"
      ]
     },
     "metadata": {},
     "output_type": "display_data"
    }
   ],
   "source": [
    "# Adjust the width and height as needed\n",
    "plt.figure(figsize=(5, 3))\n",
    "sns.countplot(data=df,x='day_of_the_week').set(xlabel='Day of Week')\n",
    "plt.xticks(rotation=90)\n",
    "plt.show()"
   ]
  },
  {
   "cell_type": "markdown",
   "metadata": {
    "id": "3KXJa0ANNXjT"
   },
   "source": [
    "### Observations on Day of Week:\n",
    "### There is higher activity over the weekend than during the other weekdays."
   ]
  },
  {
   "cell_type": "code",
   "execution_count": 18,
   "metadata": {
    "colab": {
     "base_uri": "https://localhost:8080/",
     "height": 311
    },
    "executionInfo": {
     "elapsed": 10,
     "status": "ok",
     "timestamp": 1696745351817,
     "user": {
      "displayName": "Seng Meng Boon",
      "userId": "03138883133015100841"
     },
     "user_tz": -480
    },
    "id": "OukTLtM3L_NG",
    "outputId": "6cd92fe2-b3a2-4a5f-874d-132c8cd523fe"
   },
   "outputs": [
    {
     "data": {
      "image/png": "[encoded data removed]",
      "text/plain": [
       "<Figure size 500x300 with 1 Axes>"
      ]
     },
     "metadata": {},
     "output_type": "display_data"
    }
   ],
   "source": [
    "# Food Prepartion Time\n",
    "# Adjust the width and height as needed\n",
    "plt.figure(figsize=(5, 3))\n",
    "sns.boxplot(data = df, x='food_preparation_time').set(xlabel='Food Processing Time')\n",
    "plt.show();"
   ]
  },
  {
   "cell_type": "markdown",
   "metadata": {
    "id": "7-Q0YIF-M1AO"
   },
   "source": [
    "### Observation on Food preparation time:\n",
    "### There is a fairly even distribution of the time it takes to prepare the dish between 20 minutes and 36 minutes with a median of about 27 minutes"
   ]
  },
  {
   "cell_type": "code",
   "execution_count": 19,
   "metadata": {
    "colab": {
     "base_uri": "https://localhost:8080/",
     "height": 311
    },
    "executionInfo": {
     "elapsed": 635,
     "status": "ok",
     "timestamp": 1696745352444,
     "user": {
      "displayName": "Seng Meng Boon",
      "userId": "03138883133015100841"
     },
     "user_tz": -480
    },
    "id": "ohIF3GIdWJO-",
    "outputId": "2c272569-eb34-49e7-e2df-668e638b21bd"
   },
   "outputs": [
    {
     "data": {
      "image/png": "[encoded data removed]",
      "text/plain": [
       "<Figure size 500x300 with 1 Axes>"
      ]
     },
     "metadata": {},
     "output_type": "display_data"
    }
   ],
   "source": [
    "# Food Delivery Time\n",
    "# Adjust the width and height as needed\n",
    "plt.figure(figsize=(5, 3))\n",
    "sns.boxplot(data = df, x='delivery_time').set(xlabel='Food Delivery Time')\n",
    "plt.show();"
   ]
  },
  {
   "cell_type": "markdown",
   "metadata": {
    "id": "IgvMl96CLogW"
   },
   "source": [
    "### Observations on Delivery Time:\n",
    "### The median delivery time is about 25 minutes with the observations being skewed to the left. From the histplot we can determine that most orders take between 25 and 28 minutes to be delivered"
   ]
  },
  {
   "cell_type": "markdown",
   "metadata": {
    "id": "K9CqA5H_JY_U"
   },
   "source": [
    "### **Question 7**: Which are the top 5 restaurants in terms of the number of orders received?"
   ]
  },
  {
   "cell_type": "code",
   "execution_count": 20,
   "metadata": {
    "colab": {
     "base_uri": "https://localhost:8080/"
    },
    "executionInfo": {
     "elapsed": 26,
     "status": "ok",
     "timestamp": 1696745352444,
     "user": {
      "displayName": "Seng Meng Boon",
      "userId": "03138883133015100841"
     },
     "user_tz": -480
    },
    "id": "PaJZ3wlOJY_U",
    "outputId": "49549c2f-276e-4683-bd25-6a7f6677930c"
   },
   "outputs": [
    {
     "data": {
      "text/plain": [
       "restaurant_name\n",
       "Shake Shack                  219\n",
       "The Meatball Shop            132\n",
       "Blue Ribbon Sushi            119\n",
       "Blue Ribbon Fried Chicken     96\n",
       "Parm                          68\n",
       "Name: count, dtype: int64"
      ]
     },
     "execution_count": 20,
     "metadata": {},
     "output_type": "execute_result"
    }
   ],
   "source": [
    "# grouping the restaurants\n",
    "df.groupby('restaurant_name').count()[['order_id']].sort_values('order_id', ascending=False).rename({'order_id': 'count'}, axis=1).reset_index().head(5)\n",
    "df['restaurant_name'].value_counts()[:5]"
   ]
  },
  {
   "cell_type": "markdown",
   "metadata": {
    "id": "tnjhWgUfJY_U"
   },
   "source": [
    "### Observations:\n",
    "### Shake Shack is the leading restaurant with 219 orders, The Meatball Shop, Blue Ribbon Sushi, Blue Ribbon Fried Chicken & Parm have 132, 119, 96 & 68 orders respectively and together make up the top 5 restaurants in terms of orders processed"
   ]
  },
  {
   "cell_type": "markdown",
   "metadata": {
    "id": "gWPMqGq0JY_U"
   },
   "source": [
    "### **Question 8**: Which is the most popular cuisine on weekends?"
   ]
  },
  {
   "cell_type": "code",
   "execution_count": 21,
   "metadata": {
    "colab": {
     "base_uri": "https://localhost:8080/"
    },
    "executionInfo": {
     "elapsed": 23,
     "status": "ok",
     "timestamp": 1696745352444,
     "user": {
      "displayName": "Seng Meng Boon",
      "userId": "03138883133015100841"
     },
     "user_tz": -480
    },
    "id": "c-Xnus3VJY_U",
    "outputId": "6682d37d-bab4-4cc4-876f-635fd59f5b5a"
   },
   "outputs": [
    {
     "data": {
      "text/plain": [
       "['Weekend', 'Weekday']\n",
       "Categories (2, object): ['Weekday', 'Weekend']"
      ]
     },
     "execution_count": 21,
     "metadata": {},
     "output_type": "execute_result"
    }
   ],
   "source": [
    "# Write the code here\n",
    "# day of the week set up.\n",
    "df['day_of_the_week'].unique()"
   ]
  },
  {
   "cell_type": "code",
   "execution_count": 22,
   "metadata": {
    "colab": {
     "base_uri": "https://localhost:8080/"
    },
    "executionInfo": {
     "elapsed": 21,
     "status": "ok",
     "timestamp": 1696745352444,
     "user": {
      "displayName": "Seng Meng Boon",
      "userId": "03138883133015100841"
     },
     "user_tz": -480
    },
    "id": "_DhlbbQ9WvLB",
    "outputId": "4f794d81-3c1c-4158-fb66-4dc4d6be8da7"
   },
   "outputs": [
    {
     "data": {
      "text/plain": [
       "cuisine_type\n",
       "American          415\n",
       "Japanese          335\n",
       "Italian           207\n",
       "Chinese           163\n",
       "Mexican            53\n",
       "Indian             49\n",
       "Mediterranean      32\n",
       "Middle Eastern     32\n",
       "Thai               15\n",
       "French             13\n",
       "Korean             11\n",
       "Southern           11\n",
       "Spanish            11\n",
       "Vietnamese          4\n",
       "Name: count, dtype: int64"
      ]
     },
     "execution_count": 22,
     "metadata": {},
     "output_type": "execute_result"
    }
   ],
   "source": [
    "df_weekend = df[df['day_of_the_week'] == 'Weekend'] #specifying which day of the week we are working with.\n",
    "df_weekend['cuisine_type'].value_counts()"
   ]
  },
  {
   "cell_type": "markdown",
   "metadata": {
    "id": "bpQ270TUJY_U"
   },
   "source": [
    "### Observations:\n",
    "### American Cuisine Type is the most popular during the weekends with a count of 415 orders\n"
   ]
  },
  {
   "cell_type": "markdown",
   "metadata": {
    "id": "88xgTqkxJY_U"
   },
   "source": [
    "### **Question 9**: What percentage of the orders cost more than 20 dollars?"
   ]
  },
  {
   "cell_type": "code",
   "execution_count": 23,
   "metadata": {
    "colab": {
     "base_uri": "https://localhost:8080/"
    },
    "executionInfo": {
     "elapsed": 20,
     "status": "ok",
     "timestamp": 1696745352444,
     "user": {
      "displayName": "Seng Meng Boon",
      "userId": "03138883133015100841"
     },
     "user_tz": -480
    },
    "id": "OTpHyTdzJY_U",
    "outputId": "539ee43e-b204-4e66-8325-9264790a7685"
   },
   "outputs": [
    {
     "name": "stdout",
     "output_type": "stream",
     "text": [
      "Number of orders that cost over $20 is 555\n",
      "Percentage of orders over $20 is 29.24 %\n"
     ]
    }
   ],
   "source": [
    "# Write the code here\n",
    "#getting cost of orders  greater that $20 and then multiply by 10 t get the percentage\n",
    "df_greater_than_20 = df[df['cost_of_the_order']>20]\n",
    "#df_greater_than_20\n",
    "print('Number of orders that cost over $20 is', df_greater_than_20.shape[0])\n",
    "percentage = (df_greater_than_20.shape[0] / df.shape[0]) * 100 #shape 0 is for rows shape 1 is for columns\n",
    "print(\"Percentage of orders over $20 is\", round(percentage, 2), '%')"
   ]
  },
  {
   "cell_type": "markdown",
   "metadata": {
    "id": "77KNAC5zJY_U"
   },
   "source": [
    "### Observations:\n",
    "### 29.24% of Total orders cost more than 20 dollars"
   ]
  },
  {
   "cell_type": "markdown",
   "metadata": {
    "id": "HFyHn7hsJY_V"
   },
   "source": [
    "### **Question 10**: What is the mean order delivery time?"
   ]
  },
  {
   "cell_type": "code",
   "execution_count": 24,
   "metadata": {
    "colab": {
     "base_uri": "https://localhost:8080/"
    },
    "executionInfo": {
     "elapsed": 18,
     "status": "ok",
     "timestamp": 1696745352444,
     "user": {
      "displayName": "Seng Meng Boon",
      "userId": "03138883133015100841"
     },
     "user_tz": -480
    },
    "id": "cyFL13hNJY_V",
    "outputId": "110fce2f-581f-4edd-af06-f9fc578a07f4"
   },
   "outputs": [
    {
     "name": "stdout",
     "output_type": "stream",
     "text": [
      "Average delivery time is 24.16 minutes\n"
     ]
    }
   ],
   "source": [
    "# Write the code here\n",
    "#getting average delivery time\n",
    "delivery_time = df['delivery_time'].mean()\n",
    "delivery_time\n",
    "print('Average delivery time is', round(delivery_time,2), 'minutes')"
   ]
  },
  {
   "cell_type": "markdown",
   "metadata": {
    "id": "F35SRV-HJY_V"
   },
   "source": [
    "### Observations:\n",
    "### On average it takes 24.16 minutes to have the prepared orders delivered¶"
   ]
  },
  {
   "cell_type": "markdown",
   "metadata": {
    "id": "48IjaOuDJY_V"
   },
   "source": [
    "### **Question 11:** The company has decided to give 20% discount vouchers to the top 3 most frequent customers. Find the IDs of these customers and the number of orders they placed"
   ]
  },
  {
   "cell_type": "code",
   "execution_count": 25,
   "metadata": {
    "colab": {
     "base_uri": "https://localhost:8080/"
    },
    "executionInfo": {
     "elapsed": 18,
     "status": "ok",
     "timestamp": 1696745352444,
     "user": {
      "displayName": "Seng Meng Boon",
      "userId": "03138883133015100841"
     },
     "user_tz": -480
    },
    "id": "Hz8-DE4Zge0j",
    "outputId": "655112af-131f-45eb-ed72-64bbedf2a7a1"
   },
   "outputs": [
    {
     "data": {
      "text/plain": [
       "customer_id\n",
       "52832    13\n",
       "47440    10\n",
       "83287     9\n",
       "Name: count, dtype: int64"
      ]
     },
     "execution_count": 25,
     "metadata": {},
     "output_type": "execute_result"
    }
   ],
   "source": [
    "# Write the code here\n",
    "# FIND TOP 3 CUSTOMERS\n",
    "df['customer_id'].value_counts().head(3)"
   ]
  },
  {
   "cell_type": "markdown",
   "metadata": {
    "id": "9tWVwfX6JY_V"
   },
   "source": [
    "### Observations:\n",
    "### Having extracted the top 3 most frequent customers, it reveals that the top 3 Customer IDs with their orders are 52832 with 13 orders, 47440 with 10 orders and 83287 with 9 orders."
   ]
  },
  {
   "cell_type": "markdown",
   "metadata": {
    "id": "AfIc2jPaJY_V"
   },
   "source": [
    "### Multivariate Analysis"
   ]
  },
  {
   "cell_type": "markdown",
   "metadata": {
    "id": "iqiS0RT_JY_V"
   },
   "source": [
    "### **Question 12**: Perform a multivariate analysis to explore relationships between the important variables in the dataset. (It is a good idea to explore relations between numerical variables as well as relations between numerical and categorical variables)"
   ]
  },
  {
   "cell_type": "code",
   "execution_count": 26,
   "metadata": {
    "colab": {
     "base_uri": "https://localhost:8080/",
     "height": 418
    },
    "executionInfo": {
     "elapsed": 17,
     "status": "ok",
     "timestamp": 1696745352444,
     "user": {
      "displayName": "Seng Meng Boon",
      "userId": "03138883133015100841"
     },
     "user_tz": -480
    },
    "id": "3qt4MCNTJY_V",
    "outputId": "82c045d7-9c3d-48d9-b7e1-9140e3025146"
   },
   "outputs": [
    {
     "data": {
      "image/png": "[encoded data removed]",
      "text/plain": [
       "<Figure size 500x200 with 2 Axes>"
      ]
     },
     "metadata": {},
     "output_type": "display_data"
    }
   ],
   "source": [
    "# Write the code here\n",
    "plt.figure(figsize=(5,2))\n",
    "# sns.heatmap(df.corr(),annot=True,cmap='Spectral',vmin=-1,vmax=1)\n",
    "\n",
    "numeric_columns = df.select_dtypes(include=[np.number]).columns\n",
    "sns.heatmap(df[numeric_columns].corr(), annot=True, cmap='Spectral', vmin=-1, vmax=1)\n",
    "\n",
    "\n",
    "plt.show()"
   ]
  },
  {
   "cell_type": "markdown",
   "metadata": {
    "id": "clxVxTM6dZtS"
   },
   "source": [
    "### Observations on the Heatmap and pairplot:\n",
    "\n",
    "### The heatmap shows very weak correlation between the variables."
   ]
  },
  {
   "cell_type": "markdown",
   "metadata": {
    "id": "YLkMf09YJY_V"
   },
   "source": [
    "### **Question 13:** The company wants to provide a promotional offer in the advertisement of the restaurants. The condition to get the offer is that the restaurants must have a rating count of more than 50 and the average rating should be greater than 4. Find the restaurants fulfilling the criteria to get the promotional offer"
   ]
  },
  {
   "cell_type": "code",
   "execution_count": 27,
   "metadata": {
    "colab": {
     "base_uri": "https://localhost:8080/",
     "height": 174
    },
    "executionInfo": {
     "elapsed": 15,
     "status": "ok",
     "timestamp": 1696745352444,
     "user": {
      "displayName": "Seng Meng Boon",
      "userId": "03138883133015100841"
     },
     "user_tz": -480
    },
    "id": "0M_QDvbYJY_V",
    "outputId": "3efd16fa-e5c2-49f2-a168-f9f5c9bb1227"
   },
   "outputs": [
    {
     "data": {
      "text/html": [
       "<div>\n",
       "<style scoped>\n",
       "    .dataframe tbody tr th:only-of-type {\n",
       "        vertical-align: middle;\n",
       "    }\n",
       "\n",
       "    .dataframe tbody tr th {\n",
       "        vertical-align: top;\n",
       "    }\n",
       "\n",
       "    .dataframe thead th {\n",
       "        text-align: right;\n",
       "    }\n",
       "</style>\n",
       "<table border=\"1\" class=\"dataframe\">\n",
       "  <thead>\n",
       "    <tr style=\"text-align: right;\">\n",
       "      <th></th>\n",
       "      <th>restaurant_name</th>\n",
       "      <th>rating_x</th>\n",
       "      <th>rating_y</th>\n",
       "    </tr>\n",
       "  </thead>\n",
       "  <tbody>\n",
       "    <tr>\n",
       "      <th>0</th>\n",
       "      <td>Blue Ribbon Fried Chicken</td>\n",
       "      <td>True</td>\n",
       "      <td>True</td>\n",
       "    </tr>\n",
       "    <tr>\n",
       "      <th>1</th>\n",
       "      <td>Blue Ribbon Sushi</td>\n",
       "      <td>True</td>\n",
       "      <td>True</td>\n",
       "    </tr>\n",
       "    <tr>\n",
       "      <th>2</th>\n",
       "      <td>Shake Shack</td>\n",
       "      <td>True</td>\n",
       "      <td>True</td>\n",
       "    </tr>\n",
       "    <tr>\n",
       "      <th>3</th>\n",
       "      <td>The Meatball Shop</td>\n",
       "      <td>True</td>\n",
       "      <td>True</td>\n",
       "    </tr>\n",
       "  </tbody>\n",
       "</table>\n",
       "</div>"
      ],
      "text/plain": [
       "             restaurant_name  rating_x  rating_y\n",
       "0  Blue Ribbon Fried Chicken      True      True\n",
       "1          Blue Ribbon Sushi      True      True\n",
       "2                Shake Shack      True      True\n",
       "3          The Meatball Shop      True      True"
      ]
     },
     "execution_count": 27,
     "metadata": {},
     "output_type": "execute_result"
    }
   ],
   "source": [
    "# Write the code here\n",
    "# getting restaurants with average rating greater than 4 and getting rating count for restaurants and resetting index.\n",
    "df_ratings = df[['restaurant_name','rating']][df['rating']!= 'Not given'].groupby('restaurant_name').mean()> 4\n",
    "df_ratings.reset_index(inplace=True)\n",
    "df_count = df[['rating','restaurant_name']][df['rating']!= 'Not given'].groupby('restaurant_name').count()> 50\n",
    "df_count.reset_index(inplace=True)\n",
    "advertised_restaurant = pd.merge(df_count[df_count['rating']== True], df_ratings[df_ratings['rating']== True],on ='restaurant_name')\n",
    "advertised_restaurant"
   ]
  },
  {
   "cell_type": "markdown",
   "metadata": {
    "id": "10uryUMhJY_V"
   },
   "source": [
    "### Observations:\n",
    "### Four Restaurants namely Blue Ribbon Fried Chicken, Blue Ribbon Sushi, Shake Shack, and The Meatball Shop qualify for the promotional offer\n"
   ]
  },
  {
   "cell_type": "markdown",
   "metadata": {
    "id": "1gvWBkRUJY_V"
   },
   "source": [
    "### **Question 14:** The company charges the restaurant 25% on the orders having cost greater than 20 dollars and 15% on the orders having cost greater than 5 dollars. Find the net revenue generated by the company across all orders"
   ]
  },
  {
   "cell_type": "code",
   "execution_count": 28,
   "metadata": {
    "executionInfo": {
     "elapsed": 15,
     "status": "ok",
     "timestamp": 1696745352444,
     "user": {
      "displayName": "Seng Meng Boon",
      "userId": "03138883133015100841"
     },
     "user_tz": -480
    },
    "id": "rEjbnTNEJY_W"
   },
   "outputs": [],
   "source": [
    "# Write the code here\n",
    "# Write the code here\n",
    "# Create a variable to hold the revenues\n",
    "revenue = 0\n",
    "income = 0\n",
    "# Create a Pandas series of the cost of order column\n",
    "cost = pd.Series(df['cost_of_the_order'])\n",
    "# Loop through the series calculating the individual income component and adding it to the revenue variable\n",
    "for i in range(len(cost)):\n",
    "    if (cost[i] > 5) & (cost[i] < 20):\n",
    "        income = cost[i]*0.15\n",
    "    elif (cost[i] > 20):\n",
    "        income = cost[i]*0.25\n",
    "    else:\n",
    "        income = 0\n",
    "    revenue = revenue + income"
   ]
  },
  {
   "cell_type": "code",
   "execution_count": 29,
   "metadata": {
    "colab": {
     "base_uri": "https://localhost:8080/"
    },
    "executionInfo": {
     "elapsed": 15,
     "status": "ok",
     "timestamp": 1696745352445,
     "user": {
      "displayName": "Seng Meng Boon",
      "userId": "03138883133015100841"
     },
     "user_tz": -480
    },
    "id": "HX_HfSf9H-Mf",
    "outputId": "1defa509-df34-46f3-a1f0-286ba7faf24a"
   },
   "outputs": [
    {
     "name": "stdout",
     "output_type": "stream",
     "text": [
      "Net revenue generated is:  6166.3 assuming no commission charged for orders with cost below $5\n"
     ]
    }
   ],
   "source": [
    "print('Net revenue generated is: ',round(revenue,2),'assuming no commission charged for orders with cost below $5')"
   ]
  },
  {
   "cell_type": "markdown",
   "metadata": {
    "id": "XHCEJgH0JY_W"
   },
   "source": [
    "### Observations:\n",
    "### Given the market differentiation in price, FoodHub collected a total of $ 6163.39 for the orders given"
   ]
  },
  {
   "cell_type": "markdown",
   "metadata": {
    "id": "pRlVW-oeJY_W"
   },
   "source": [
    "### **Question 15:** The company wants to analyze the total time required to deliver the food. What percentage of orders take more than 60 minutes to get delivered from the time the order is placed? (The food has to be prepared and then delivered)"
   ]
  },
  {
   "cell_type": "code",
   "execution_count": 30,
   "metadata": {
    "colab": {
     "base_uri": "https://localhost:8080/",
     "height": 278
    },
    "executionInfo": {
     "elapsed": 14,
     "status": "ok",
     "timestamp": 1696745352445,
     "user": {
      "displayName": "Seng Meng Boon",
      "userId": "03138883133015100841"
     },
     "user_tz": -480
    },
    "id": "zxoTrxfLJY_W",
    "outputId": "2502acc5-ba82-47e6-8e00-7719a0b0d956"
   },
   "outputs": [
    {
     "data": {
      "text/html": [
       "<div>\n",
       "<style scoped>\n",
       "    .dataframe tbody tr th:only-of-type {\n",
       "        vertical-align: middle;\n",
       "    }\n",
       "\n",
       "    .dataframe tbody tr th {\n",
       "        vertical-align: top;\n",
       "    }\n",
       "\n",
       "    .dataframe thead th {\n",
       "        text-align: right;\n",
       "    }\n",
       "</style>\n",
       "<table border=\"1\" class=\"dataframe\">\n",
       "  <thead>\n",
       "    <tr style=\"text-align: right;\">\n",
       "      <th></th>\n",
       "      <th>order_id</th>\n",
       "      <th>customer_id</th>\n",
       "      <th>restaurant_name</th>\n",
       "      <th>cuisine_type</th>\n",
       "      <th>cost_of_the_order</th>\n",
       "      <th>day_of_the_week</th>\n",
       "      <th>rating</th>\n",
       "      <th>food_preparation_time</th>\n",
       "      <th>delivery_time</th>\n",
       "      <th>total_prep_time</th>\n",
       "    </tr>\n",
       "  </thead>\n",
       "  <tbody>\n",
       "    <tr>\n",
       "      <th>0</th>\n",
       "      <td>1477147</td>\n",
       "      <td>337525</td>\n",
       "      <td>Hangawi</td>\n",
       "      <td>Korean</td>\n",
       "      <td>30.75</td>\n",
       "      <td>Weekend</td>\n",
       "      <td>Not given</td>\n",
       "      <td>25</td>\n",
       "      <td>20</td>\n",
       "      <td>45</td>\n",
       "    </tr>\n",
       "    <tr>\n",
       "      <th>1</th>\n",
       "      <td>1477685</td>\n",
       "      <td>358141</td>\n",
       "      <td>Blue Ribbon Sushi Izakaya</td>\n",
       "      <td>Japanese</td>\n",
       "      <td>12.08</td>\n",
       "      <td>Weekend</td>\n",
       "      <td>Not given</td>\n",
       "      <td>25</td>\n",
       "      <td>23</td>\n",
       "      <td>48</td>\n",
       "    </tr>\n",
       "    <tr>\n",
       "      <th>2</th>\n",
       "      <td>1477070</td>\n",
       "      <td>66393</td>\n",
       "      <td>Cafe Habana</td>\n",
       "      <td>Mexican</td>\n",
       "      <td>12.23</td>\n",
       "      <td>Weekday</td>\n",
       "      <td>5</td>\n",
       "      <td>23</td>\n",
       "      <td>28</td>\n",
       "      <td>51</td>\n",
       "    </tr>\n",
       "    <tr>\n",
       "      <th>3</th>\n",
       "      <td>1477334</td>\n",
       "      <td>106968</td>\n",
       "      <td>Blue Ribbon Fried Chicken</td>\n",
       "      <td>American</td>\n",
       "      <td>29.20</td>\n",
       "      <td>Weekend</td>\n",
       "      <td>3</td>\n",
       "      <td>25</td>\n",
       "      <td>15</td>\n",
       "      <td>40</td>\n",
       "    </tr>\n",
       "    <tr>\n",
       "      <th>4</th>\n",
       "      <td>1478249</td>\n",
       "      <td>76942</td>\n",
       "      <td>Dirty Bird to Go</td>\n",
       "      <td>American</td>\n",
       "      <td>11.59</td>\n",
       "      <td>Weekday</td>\n",
       "      <td>4</td>\n",
       "      <td>25</td>\n",
       "      <td>24</td>\n",
       "      <td>49</td>\n",
       "    </tr>\n",
       "  </tbody>\n",
       "</table>\n",
       "</div>"
      ],
      "text/plain": [
       "  order_id customer_id            restaurant_name cuisine_type   \n",
       "0  1477147      337525                    Hangawi       Korean  \\\n",
       "1  1477685      358141  Blue Ribbon Sushi Izakaya     Japanese   \n",
       "2  1477070       66393                Cafe Habana      Mexican   \n",
       "3  1477334      106968  Blue Ribbon Fried Chicken     American   \n",
       "4  1478249       76942           Dirty Bird to Go     American   \n",
       "\n",
       "   cost_of_the_order day_of_the_week     rating  food_preparation_time   \n",
       "0              30.75         Weekend  Not given                     25  \\\n",
       "1              12.08         Weekend  Not given                     25   \n",
       "2              12.23         Weekday          5                     23   \n",
       "3              29.20         Weekend          3                     25   \n",
       "4              11.59         Weekday          4                     25   \n",
       "\n",
       "   delivery_time  total_prep_time  \n",
       "0             20               45  \n",
       "1             23               48  \n",
       "2             28               51  \n",
       "3             15               40  \n",
       "4             24               49  "
      ]
     },
     "execution_count": 30,
     "metadata": {},
     "output_type": "execute_result"
    }
   ],
   "source": [
    "# Write the code here\n",
    "# Create a new column to hold the computed value for total time required\n",
    "df['total_prep_time'] = df['food_preparation_time']+df['delivery_time']\n",
    "# Review to confirm the new column\n",
    "df.head()"
   ]
  },
  {
   "cell_type": "code",
   "execution_count": 31,
   "metadata": {
    "colab": {
     "base_uri": "https://localhost:8080/"
    },
    "executionInfo": {
     "elapsed": 14,
     "status": "ok",
     "timestamp": 1696745352445,
     "user": {
      "displayName": "Seng Meng Boon",
      "userId": "03138883133015100841"
     },
     "user_tz": -480
    },
    "id": "jzT36287HxVk",
    "outputId": "86400207-29fe-4c09-9606-1b8eea651491"
   },
   "outputs": [
    {
     "data": {
      "text/plain": [
       "10.54"
      ]
     },
     "execution_count": 31,
     "metadata": {},
     "output_type": "execute_result"
    }
   ],
   "source": [
    "#Compute the percentage of orders taking more than 60 minutes\n",
    "total_observations = df['total_prep_time'].count()\n",
    "ordertime_above60 = df['total_prep_time'][df['total_prep_time']> 60].count()\n",
    "\n",
    "percent_above60 = round((ordertime_above60/total_observations)*100,2)\n",
    "percent_above60"
   ]
  },
  {
   "cell_type": "markdown",
   "metadata": {
    "id": "iqzBXn2yJY_W"
   },
   "source": [
    "### Observations:\n",
    "### About 10.54% of orders take more than 60 minutes to prepare and deliver.\n"
   ]
  },
  {
   "cell_type": "markdown",
   "metadata": {
    "id": "bUd6cYpPJY_W"
   },
   "source": [
    "### **Question 16:** The company wants to analyze the delivery time of the orders on weekdays and weekends. How does the mean delivery time vary during weekdays and weekends?"
   ]
  },
  {
   "cell_type": "code",
   "execution_count": 32,
   "metadata": {
    "colab": {
     "base_uri": "https://localhost:8080/",
     "height": 174
    },
    "executionInfo": {
     "elapsed": 13,
     "status": "ok",
     "timestamp": 1696745352445,
     "user": {
      "displayName": "Seng Meng Boon",
      "userId": "03138883133015100841"
     },
     "user_tz": -480
    },
    "id": "pIU5xZZ6JY_W",
    "outputId": "47b88aad-3f13-4f27-e7e4-cea97e3c8101"
   },
   "outputs": [
    {
     "data": {
      "text/html": [
       "<div>\n",
       "<style scoped>\n",
       "    .dataframe tbody tr th:only-of-type {\n",
       "        vertical-align: middle;\n",
       "    }\n",
       "\n",
       "    .dataframe tbody tr th {\n",
       "        vertical-align: top;\n",
       "    }\n",
       "\n",
       "    .dataframe thead tr th {\n",
       "        text-align: left;\n",
       "    }\n",
       "\n",
       "    .dataframe thead tr:last-of-type th {\n",
       "        text-align: right;\n",
       "    }\n",
       "</style>\n",
       "<table border=\"1\" class=\"dataframe\">\n",
       "  <thead>\n",
       "    <tr>\n",
       "      <th></th>\n",
       "      <th colspan=\"4\" halign=\"left\">delivery_time</th>\n",
       "    </tr>\n",
       "    <tr>\n",
       "      <th></th>\n",
       "      <th>mean</th>\n",
       "      <th>sum</th>\n",
       "      <th>count</th>\n",
       "      <th>std</th>\n",
       "    </tr>\n",
       "    <tr>\n",
       "      <th>day_of_the_week</th>\n",
       "      <th></th>\n",
       "      <th></th>\n",
       "      <th></th>\n",
       "      <th></th>\n",
       "    </tr>\n",
       "  </thead>\n",
       "  <tbody>\n",
       "    <tr>\n",
       "      <th>Weekday</th>\n",
       "      <td>28.340037</td>\n",
       "      <td>15502</td>\n",
       "      <td>547</td>\n",
       "      <td>2.891428</td>\n",
       "    </tr>\n",
       "    <tr>\n",
       "      <th>Weekend</th>\n",
       "      <td>22.470022</td>\n",
       "      <td>30357</td>\n",
       "      <td>1351</td>\n",
       "      <td>4.628938</td>\n",
       "    </tr>\n",
       "  </tbody>\n",
       "</table>\n",
       "</div>"
      ],
      "text/plain": [
       "                delivery_time                       \n",
       "                         mean    sum count       std\n",
       "day_of_the_week                                     \n",
       "Weekday             28.340037  15502   547  2.891428\n",
       "Weekend             22.470022  30357  1351  4.628938"
      ]
     },
     "execution_count": 32,
     "metadata": {},
     "output_type": "execute_result"
    }
   ],
   "source": [
    "# Write the code here\n",
    "# The code computes the mean delivery time based on the day of the week, however it includes other statistics that maybe useful\n",
    "# for review alongside the mean\n",
    "avr_del_time = df.groupby('day_of_the_week')[['delivery_time']].agg(['mean','sum','count','std'])\n",
    "avr_del_time"
   ]
  },
  {
   "cell_type": "markdown",
   "metadata": {
    "id": "8H-ODxbVJY_W"
   },
   "source": [
    "### Observations:\n",
    "### The mean delivery time during the weekend is 22.47 minutes against the weekday delivery time of 28.34. This is a curious observation especially reviewed against the count, which implies there are fewer orders over the weekdays compared to weekends. Probable explanation would be, there is higher traffic on weekdays than weekends.\n"
   ]
  },
  {
   "cell_type": "markdown",
   "metadata": {
    "id": "17roJywaJY_W"
   },
   "source": [
    "### Conclusion and Recommendations"
   ]
  },
  {
   "cell_type": "markdown",
   "metadata": {
    "id": "ZdX2Wz4FJY_W"
   },
   "source": [
    "### **Question 17:** What are your conclusions from the analysis? What recommendations would you like to share to help improve the business? (You can use cuisine type and feedback ratings to drive your business recommendations)"
   ]
  },
  {
   "cell_type": "markdown",
   "metadata": {
    "id": "VTugVsL4Ddz-"
   },
   "source": [
    "### Conclusions:\n",
    "\n",
    "Below is a summary of Key observations and conclusions\n",
    "\n",
    "*  With rating concentrated around the high score of 5, its possible that mostly its the very satisfied customers that bother to rate the service. However alot of data about (38%) is lost in the unrated orders. A curious question that would arise is whether the unrated orders would skew the rating in a different direction\n",
    "\n",
    "*  The cost of orders peak at around 12 dollars, there is a slight peak around 25 dollars as well making the observations bimodal.\n",
    "\n",
    "*  There is a consistent popularity structure of the cuisines irrespective of the day of the week although demand is significantly higher over the weekends.\n",
    "\n",
    "*  Preparation time is relatively consistent as compared to delivery time, meaning delivery time is the significant variable in total preparation time (total time between order and delivery to customer)."
   ]
  },
  {
   "cell_type": "markdown",
   "metadata": {
    "id": "PWnsI0i_guWJ"
   },
   "source": [
    "### Recommendations:\n",
    "\n",
    "Based on the observations in this analysis below is recommended.\n",
    "\n",
    "*  Improve the customers' response rating their orders, that is, reduce the rating 'Not given' on the orders. If possible entice them with a reward or follow up to know why they opt not to rate the service. This is so that better data can be available to determine customer satisfaction and enable service improvements.\n",
    "\n",
    "*  The bimodal peak on the cost of orders processed may imply a differenciated market segment, possibly the peak at 12 dollars has a higher concentration of students with the peak at 25 dollars having a higher concentration of the more affluent professionals. Further analysis of the customers' demographics may better reveal this.\n",
    "\n",
    "*  Given the consistent popularity of the cuisines across the days of the week, better marketing can be focused on the weekday to boost sales.\n",
    "\n",
    "*  To improve on total order time (the total time taken between the customer placing the order and receiving their delivery) a review on how to bring down delivery time can be assessed to improve on overall service. A curious question also arises on whether the high delivery time is the cause of low orders during the weekdays. A review of whether customers shun ordering on weekdays because they anticipate a longer processing time for their order. Also could weekday traffic be the cause of the higher delivery time on weekdays?\n"
   ]
  },
  {
   "cell_type": "markdown",
   "metadata": {
    "id": "tSoucKKbg9Hc"
   },
   "source": [
    "---"
   ]
  }
 ],
 "metadata": {
  "colab": {
   "provenance": []
  },
  "hide_input": false,
  "kernelspec": {
   "display_name": "AI",
   "language": "python",
   "name": "ai"
  },
  "language_info": {
   "codemirror_mode": {
    "name": "ipython",
    "version": 3
   },
   "file_extension": ".py",
   "mimetype": "text/x-python",
   "name": "python",
   "nbconvert_exporter": "python",
   "pygments_lexer": "ipython3",
   "version": "3.8.17"
  },
  "toc": {
   "base_numbering": 1,
   "nav_menu": {},
   "number_sections": true,
   "sideBar": true,
   "skip_h1_title": false,
   "title_cell": "Table of Contents",
   "title_sidebar": "Contents",
   "toc_cell": false,
   "toc_position": {},
   "toc_section_display": true,
   "toc_window_display": false
  },
  "varInspector": {
   "cols": {
    "lenName": 16,
    "lenType": 16,
    "lenVar": 40
   },
   "kernels_config": {
    "python": {
     "delete_cmd_postfix": "",
     "delete_cmd_prefix": "del ",
     "library": "var_list.py",
     "varRefreshCmd": "print(var_dic_list())"
    },
    "r": {
     "delete_cmd_postfix": ") ",
     "delete_cmd_prefix": "rm(",
     "library": "var_list.r",
     "varRefreshCmd": "cat(var_dic_list()) "
    }
   },
   "types_to_exclude": [
    "module",
    "function",
    "builtin_function_or_method",
    "instance",
    "_Feature"
   ],
   "window_display": false
  }
 },
 "nbformat": 4,
 "nbformat_minor": 1
}
