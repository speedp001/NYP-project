{
 "cells": [
  {
   "cell_type": "markdown",
   "metadata": {},
   "source": [
    "# Practical 8 - Descriptive Statistics with Python Project\n",
    "\n",
    "\n",
    "**Descriptive Statistics** is the subject matter of this project. Descriptive statistics gives us the basic summary measures about the dataset.  The summary measures include measures of central tendency (mean, median and mode) and measures of variability (variance, standard deviation, minimum/maximum values, IQR (Interquartile Range), skewness and kurtosis). I have used the fortune 500 dataset from the data world website for this project."
   ]
  },
  {
   "cell_type": "markdown",
   "metadata": {},
   "source": [
    "## 1. Introduction to descriptive statistics\n",
    "\n",
    "\n",
    "Descriptive statistics are numbers that are used to describe and summarize the data. They are used to describe the basic features of the data under consideration. They provide simple summary measures which give an overview of the dataset. Summary measures that are commonly used to describe a data set are measures of central tendency and measures of variability or dispersion. \n",
    "\n",
    "\n",
    "Measures of central tendency include the `mean`, `median` and `mode`. These measures summarize a given data set by providing a single data point. These measures describe the center position of a distribution for a data set. We analyze the frequency of each data point in the distribution and describes it using the mean, median or mode. They provide the average of a data set. They can be either a representation of entire population or a sample of the population.\n",
    "\n",
    "\n",
    "Measures of variability or dispersion include the `variance` or `standard deviation`, `coefficient of variation`,  `minimum` and `maximum` values, `IQR (Interquartile Range)`,  `skewness and `kurtosis`. These measures help us to analyze how spread-out the distribution is for a dataset. So, they provide the shape of the data set."
   ]
  },
  {
   "cell_type": "markdown",
   "metadata": {},
   "source": [
    "## 2. Measures of central tendency\n",
    "\n",
    "\n",
    "**Central tendency** means a central value which describe a probability distribution. It may also be called a center or location of the distribution. The most common measures of central tendency are **mean**, **median** and **mode**. The most common measure of central tendency is the **mean**. For skewed distribution or when there is concern about outliers, the **median** may be preferred. So, median is more robust measure than the mean.\n",
    "\n",
    "\n",
    "\n",
    "### Mean\n",
    "\n",
    "- The most common measure of central tendency is the mean.\n",
    "- Mean is also known as the simple average.\n",
    "- It is denoted by greek letter µ for population and by ¯x for sample.\n",
    "- We can find mean of a number of elements by adding all the elements in a dataset and then dividing by the number of elements  in the dataset.\n",
    "- It is the most common measure of central tendency but it has a drawback.\n",
    "- The mean is affected by the presence of outliers.\n",
    "- So, mean alone is not enough for making business decisions.\n",
    "\n",
    "\n",
    "### Median\n",
    "\n",
    "- Median is the number which divides the dataset into two equal halves.\n",
    "- To calculate the median, we have to arrange our dataset of n numbers in ascending order.\n",
    "- The median of this dataset is the number at (n+1)/2 th position, if n is odd.\n",
    "- If n is even, then the median is the average of the (n/2)th number and (n+2)/2 th number.\n",
    "- Median is robust to outliers.\n",
    "- So, for skewed distribution or when there is concern about outliers, the median may be preferred.\n",
    "\n",
    "\n",
    "### Mode\n",
    "\n",
    "- Mode of a dataset is the value that occurs most often in the dataset.\n",
    "- Mode is the value that has the highest frequency of occurrence in the dataset.\n",
    "\n",
    "\n",
    "There is no best measure that give us the complete picture. So, these measures of central tendency (mean, median and mode) should be used together to represent the full picture. \n"
   ]
  },
  {
   "cell_type": "markdown",
   "metadata": {},
   "source": [
    "## 3. Measures of dispersion or variability\n",
    "\n",
    "\n",
    "**Dispersion** is an indicator of how far away from the center, we can find the data values. The most common measures of dispersion are **variance**, **standard deviation** and **interquartile range (IQR)**. **Variance** is the standard measure of spread. The **standard deviation** is the square root of the variance. The **variance** and **standard deviation** are two useful measures of spread. \n",
    "\n",
    "\n",
    "\n",
    "### Variance\n",
    "\n",
    "- Variance measures the dispersion of a set of data points around their mean value.\n",
    "- It is the mean of the squares of the individual deviations.\n",
    "- Variance gives results in the original units squared.\n",
    "\n",
    "\n",
    "\n",
    "### Standard deviation\n",
    "\n",
    "- Standard deviation is the most common used measure of variability.\n",
    "- It is the square-root of the variance.\n",
    "- For Normally distributed data, approximately 95% of the values lie within 2 s.d. of the mean. \n",
    "- Standard deviation gives results in the original units.\n",
    "\n",
    "\n",
    "### Coefficient of Variation (CV)\n",
    "\n",
    "- Coefficient of Variation (CV) is equal to the standard deviation divided by the mean.\n",
    "- It is also known as `relative standard deviation`.\n",
    "\n",
    "\n",
    "### IQR (Interquartile range)\n",
    "\n",
    "- A third measure of spread is the **interquartile range (IQR)**.\n",
    "- The IQR is calculated using the boundaries of data situated between the 1st and the 3rd quartiles. \n",
    "- The interquartile range (IQR) can be calculated as follows:-\n",
    "       IQR = Q3 – Q1\n",
    "- In the same way that the median is more robust than the mean, the IQR is a more robust measure of spread than variance and standard deviation and should therefore be preferred for small or asymmetrical distributions. \n",
    "- It is a robust measure of spread.\n",
    "\n",
    "\n",
    "\n",
    "### Measures of shape\n",
    "\n",
    "Now, we will take a look at measures of shape of distribution. There are two statistical measures that can tell us about the shape of the distribution. These measures are **skewness** and **kurtosis**. These measures can be used to convey information about the shape of the distribution of the dataset.\n",
    "\n",
    "\n",
    "### Skewness\n",
    "- **Skewness** is a measure of a distribution's symmetry or more precisely lack of symmetry. \n",
    "- It is used to mean the absence of symmetry from the mean of the dataset. \n",
    "- It is a characteristic of the deviation from the mean. \n",
    "- It is used to indicate the shape of the distribution of data.\n",
    "\n",
    "\n",
    "#### Negative skewness\n",
    "\n",
    "- Negative values for skewness indicate negative skewness. \n",
    "- In this case, the data are skewed or tail to left. \n",
    "- By skewed left, we mean that the left tail is long relative to the right tail. \n",
    "- The data values may extend further to the left but concentrated in the right. \n",
    "- So, there is a long tail and distortion is caused by extremely small values which pull the mean downward so that it is less than the median. \n",
    "- Hence, in this case we have\n",
    "      **Mean < Median < Mode**\n",
    "      \n",
    "\n",
    "#### Zero skewness\n",
    "\n",
    "- Zero skewness means skewness value of zero. \n",
    "- It means the dataset is symmetrical. \n",
    "- A data set is symmetrical if it looks the same to the left and right to the center point. \n",
    "- The dataset looks bell shaped or symmetrical. \n",
    "- A perfectly symmetrical data set will have a skewness of zero. \n",
    "- So, the normal distribution which is perfectly symmetrical has a skewness of 0. \n",
    "- So, in this case, we have\n",
    "      **Mean = Median = Mode**\n",
    "      \n",
    "\n",
    "#### Positive skewness\n",
    "\n",
    "- Positive values for skewness indicate positive skewness. \n",
    "- The dataset are skewed or tail to right. \n",
    "- By skewed right, we mean that the right tail is long relative to the left tail. \n",
    "- The data values are concentrated in the right. \n",
    "- So, there is a long tail to the right that is caused by extremely large values which pull the mean upward so that it is greater than the median. \n",
    "- So, we have\n",
    "       **Mean > Median > Mode**\n",
    "       \n",
    "\n",
    "#### Reference range on skewness values\n",
    "\n",
    "The rule of thumb for skewness values are:\n",
    "\n",
    "- If the skewness is between -0.5 and 0.5, the data are fairly symmetrical.\n",
    "- If the skewness is between -1 and – 0.5 or between 0.5 and 1, the data are moderately skewed.\n",
    "- If the skewness is less than -1 or greater than 1, the data are highly skewed.\n",
    "\n",
    "\n",
    "### Kurtosis\n",
    "\n",
    "- Kurtosis is the degree of peakedness of a distribution. \n",
    "- Data sets with high kurtosis tend to have a distinct peak near the mean, decline rather rapidly and have heavy tails.\n",
    "- Data sets with low kurtosis tend to have a flat top near the mean rather than a sharp peak. \n",
    "\n",
    "\n",
    "#### Reference range for kurtosis\n",
    "- The reference standard is a normal distribution, which has a kurtosis of 3. \n",
    "- Often, **excess kurtosis** is presented instead of kurtosis, where **excess kurtosis** is simply **kurtosis - 3**. \n",
    "\n",
    "#### Mesokurtic curve\n",
    "- A normal distribution has kurtosis exactly 3 (**excess kurtosis** exactly 0). \n",
    "- Any distribution with kurtosis ≈3 (excess ≈ 0) is called **mesokurtic**.\n",
    "\n",
    "#### Platykurtic curve\n",
    "- A distribution with kurtosis < 3 (**excess kurtosis** < 0) is called **platykurtic**. \n",
    "- As compared to a normal distribution, its central peak is lower and broader, and its tails are shorter and thinner.\n",
    "\n",
    "#### Leptokurtic curve\n",
    "\n",
    "- A distribution with kurtosis > 3 (**excess kurtosis** > 0) is called **leptokurtic**. \n",
    "- As compared to a normal distribution, its central peak is higher and sharper, and its tails are longer and fatter.\n",
    "\n",
    "\n",
    "\n",
    "### Summary\n",
    "\n",
    "\n",
    "So far, we have looked at the measures of central tendency of the data which include `mean`, `median` and `mode`. Also, we have taken a look at measures of spread of the data which consists of `variance`, `standard deviation`, `interquartile range (IQR)`, `minimum` and `maximum` values. We have also discussed `skewness` and `kurtosis` as measures of shape. These quantities can only be used for quantitative variables not for categorical variables.\n"
   ]
  },
  {
   "cell_type": "markdown",
   "metadata": {},
   "source": [
    "## 4. Dataset description\n",
    "\n",
    "The data set consists of revenue and profit figures of fortune 500 companies along with their rank."
   ]
  },
  {
   "cell_type": "markdown",
   "metadata": {},
   "source": [
    "## 5. Import libraries"
   ]
  },
  {
   "cell_type": "code",
   "execution_count": 2,
   "metadata": {},
   "outputs": [],
   "source": [
    "import pandas as pd\n",
    "import numpy as np\n",
    "import matplotlib.pyplot as plt\n",
    "import seaborn as sns\n",
    "%matplotlib inline"
   ]
  },
  {
   "cell_type": "markdown",
   "metadata": {},
   "source": [
    "### Ignore warnings"
   ]
  },
  {
   "cell_type": "code",
   "execution_count": 3,
   "metadata": {},
   "outputs": [],
   "source": [
    "import warnings\n",
    "warnings.filterwarnings('ignore')"
   ]
  },
  {
   "cell_type": "markdown",
   "metadata": {},
   "source": [
    "## 6. Import dataset"
   ]
  },
  {
   "cell_type": "code",
   "execution_count": 4,
   "metadata": {},
   "outputs": [],
   "source": [
    "df = pd.read_csv('../data/fortune500.csv')"
   ]
  },
  {
   "cell_type": "markdown",
   "metadata": {},
   "source": [
    "## 7. Exploratory data analysis\n",
    "\n",
    "\n",
    "Now, I will explore the data to gain insights about the data."
   ]
  },
  {
   "cell_type": "markdown",
   "metadata": {},
   "source": [
    "### View dimensions of dataset"
   ]
  },
  {
   "cell_type": "code",
   "execution_count": 5,
   "metadata": {},
   "outputs": [
    {
     "data": {
      "text/plain": [
       "(500, 17)"
      ]
     },
     "execution_count": 5,
     "metadata": {},
     "output_type": "execute_result"
    }
   ],
   "source": [
    "df.shape"
   ]
  },
  {
   "cell_type": "markdown",
   "metadata": {},
   "source": [
    "We can see that there are 25500 instances and 5 variables in the data set."
   ]
  },
  {
   "cell_type": "markdown",
   "metadata": {},
   "source": [
    "### Preview the dataset"
   ]
  },
  {
   "cell_type": "code",
   "execution_count": 6,
   "metadata": {},
   "outputs": [
    {
     "data": {
      "text/html": [
       "<div>\n",
       "<style scoped>\n",
       "    .dataframe tbody tr th:only-of-type {\n",
       "        vertical-align: middle;\n",
       "    }\n",
       "\n",
       "    .dataframe tbody tr th {\n",
       "        vertical-align: top;\n",
       "    }\n",
       "\n",
       "    .dataframe thead th {\n",
       "        text-align: right;\n",
       "    }\n",
       "</style>\n",
       "<table border=\"1\" class=\"dataframe\">\n",
       "  <thead>\n",
       "    <tr style=\"text-align: right;\">\n",
       "      <th></th>\n",
       "      <th>company</th>\n",
       "      <th>rank</th>\n",
       "      <th>revenues</th>\n",
       "      <th>revenue_change</th>\n",
       "      <th>profits</th>\n",
       "      <th>assets</th>\n",
       "      <th>profit_change</th>\n",
       "      <th>ceo</th>\n",
       "      <th>industry</th>\n",
       "      <th>sector</th>\n",
       "      <th>previous_rank</th>\n",
       "      <th>country</th>\n",
       "      <th>hq_location</th>\n",
       "      <th>website</th>\n",
       "      <th>years_on_global_500_list</th>\n",
       "      <th>employees</th>\n",
       "      <th>total_stockholder_equity</th>\n",
       "    </tr>\n",
       "  </thead>\n",
       "  <tbody>\n",
       "    <tr>\n",
       "      <th>0</th>\n",
       "      <td>Walmart</td>\n",
       "      <td>1</td>\n",
       "      <td>485873</td>\n",
       "      <td>0.8</td>\n",
       "      <td>13643.0</td>\n",
       "      <td>198825</td>\n",
       "      <td>-7.2</td>\n",
       "      <td>C. Douglas McMillon</td>\n",
       "      <td>General Merchandisers</td>\n",
       "      <td>Retailing</td>\n",
       "      <td>1</td>\n",
       "      <td>USA</td>\n",
       "      <td>Bentonville, AR</td>\n",
       "      <td>http://www.walmart.com</td>\n",
       "      <td>23</td>\n",
       "      <td>2300000</td>\n",
       "      <td>77798</td>\n",
       "    </tr>\n",
       "    <tr>\n",
       "      <th>1</th>\n",
       "      <td>State Grid</td>\n",
       "      <td>2</td>\n",
       "      <td>315199</td>\n",
       "      <td>-4.4</td>\n",
       "      <td>9571.3</td>\n",
       "      <td>489838</td>\n",
       "      <td>-6.2</td>\n",
       "      <td>Kou Wei</td>\n",
       "      <td>Utilities</td>\n",
       "      <td>Energy</td>\n",
       "      <td>2</td>\n",
       "      <td>China</td>\n",
       "      <td>Beijing, China</td>\n",
       "      <td>http://www.sgcc.com.cn</td>\n",
       "      <td>17</td>\n",
       "      <td>926067</td>\n",
       "      <td>209456</td>\n",
       "    </tr>\n",
       "    <tr>\n",
       "      <th>2</th>\n",
       "      <td>Sinopec Group</td>\n",
       "      <td>3</td>\n",
       "      <td>267518</td>\n",
       "      <td>-9.1</td>\n",
       "      <td>1257.9</td>\n",
       "      <td>310726</td>\n",
       "      <td>-65.0</td>\n",
       "      <td>Wang Yupu</td>\n",
       "      <td>Petroleum Refining</td>\n",
       "      <td>Energy</td>\n",
       "      <td>4</td>\n",
       "      <td>China</td>\n",
       "      <td>Beijing, China</td>\n",
       "      <td>http://www.sinopec.com</td>\n",
       "      <td>19</td>\n",
       "      <td>713288</td>\n",
       "      <td>106523</td>\n",
       "    </tr>\n",
       "    <tr>\n",
       "      <th>3</th>\n",
       "      <td>China National Petroleum</td>\n",
       "      <td>4</td>\n",
       "      <td>262573</td>\n",
       "      <td>-12.3</td>\n",
       "      <td>1867.5</td>\n",
       "      <td>585619</td>\n",
       "      <td>-73.7</td>\n",
       "      <td>Zhang Jianhua</td>\n",
       "      <td>Petroleum Refining</td>\n",
       "      <td>Energy</td>\n",
       "      <td>3</td>\n",
       "      <td>China</td>\n",
       "      <td>Beijing, China</td>\n",
       "      <td>http://www.cnpc.com.cn</td>\n",
       "      <td>17</td>\n",
       "      <td>1512048</td>\n",
       "      <td>301893</td>\n",
       "    </tr>\n",
       "    <tr>\n",
       "      <th>4</th>\n",
       "      <td>Toyota Motor</td>\n",
       "      <td>5</td>\n",
       "      <td>254694</td>\n",
       "      <td>7.7</td>\n",
       "      <td>16899.3</td>\n",
       "      <td>437575</td>\n",
       "      <td>-12.3</td>\n",
       "      <td>Akio Toyoda</td>\n",
       "      <td>Motor Vehicles and Parts</td>\n",
       "      <td>Motor Vehicles &amp; Parts</td>\n",
       "      <td>8</td>\n",
       "      <td>Japan</td>\n",
       "      <td>Toyota, Japan</td>\n",
       "      <td>http://www.toyota-global.com</td>\n",
       "      <td>23</td>\n",
       "      <td>364445</td>\n",
       "      <td>157210</td>\n",
       "    </tr>\n",
       "  </tbody>\n",
       "</table>\n",
       "</div>"
      ],
      "text/plain": [
       "                    company  rank  revenues  revenue_change  profits  assets   \n",
       "0                   Walmart     1    485873             0.8  13643.0  198825  \\\n",
       "1                State Grid     2    315199            -4.4   9571.3  489838   \n",
       "2             Sinopec Group     3    267518            -9.1   1257.9  310726   \n",
       "3  China National Petroleum     4    262573           -12.3   1867.5  585619   \n",
       "4              Toyota Motor     5    254694             7.7  16899.3  437575   \n",
       "\n",
       "   profit_change                  ceo                  industry   \n",
       "0           -7.2  C. Douglas McMillon     General Merchandisers  \\\n",
       "1           -6.2              Kou Wei                 Utilities   \n",
       "2          -65.0            Wang Yupu        Petroleum Refining   \n",
       "3          -73.7        Zhang Jianhua        Petroleum Refining   \n",
       "4          -12.3          Akio Toyoda  Motor Vehicles and Parts   \n",
       "\n",
       "                   sector  previous_rank country      hq_location   \n",
       "0               Retailing              1     USA  Bentonville, AR  \\\n",
       "1                  Energy              2   China   Beijing, China   \n",
       "2                  Energy              4   China   Beijing, China   \n",
       "3                  Energy              3   China   Beijing, China   \n",
       "4  Motor Vehicles & Parts              8   Japan    Toyota, Japan   \n",
       "\n",
       "                        website  years_on_global_500_list  employees   \n",
       "0        http://www.walmart.com                        23    2300000  \\\n",
       "1        http://www.sgcc.com.cn                        17     926067   \n",
       "2        http://www.sinopec.com                        19     713288   \n",
       "3        http://www.cnpc.com.cn                        17    1512048   \n",
       "4  http://www.toyota-global.com                        23     364445   \n",
       "\n",
       "   total_stockholder_equity  \n",
       "0                     77798  \n",
       "1                    209456  \n",
       "2                    106523  \n",
       "3                    301893  \n",
       "4                    157210  "
      ]
     },
     "execution_count": 6,
     "metadata": {},
     "output_type": "execute_result"
    }
   ],
   "source": [
    "df.head()"
   ]
  },
  {
   "cell_type": "markdown",
   "metadata": {},
   "source": [
    "### View summary of dataset"
   ]
  },
  {
   "cell_type": "code",
   "execution_count": 7,
   "metadata": {},
   "outputs": [
    {
     "name": "stdout",
     "output_type": "stream",
     "text": [
      "<class 'pandas.core.frame.DataFrame'>\n",
      "RangeIndex: 500 entries, 0 to 499\n",
      "Data columns (total 17 columns):\n",
      " #   Column                    Non-Null Count  Dtype  \n",
      "---  ------                    --------------  -----  \n",
      " 0   company                   500 non-null    object \n",
      " 1   rank                      500 non-null    int64  \n",
      " 2   revenues                  500 non-null    int64  \n",
      " 3   revenue_change            498 non-null    float64\n",
      " 4   profits                   499 non-null    float64\n",
      " 5   assets                    500 non-null    int64  \n",
      " 6   profit_change             436 non-null    float64\n",
      " 7   ceo                       500 non-null    object \n",
      " 8   industry                  500 non-null    object \n",
      " 9   sector                    500 non-null    object \n",
      " 10  previous_rank             500 non-null    int64  \n",
      " 11  country                   500 non-null    object \n",
      " 12  hq_location               500 non-null    object \n",
      " 13  website                   500 non-null    object \n",
      " 14  years_on_global_500_list  500 non-null    int64  \n",
      " 15  employees                 500 non-null    int64  \n",
      " 16  total_stockholder_equity  500 non-null    int64  \n",
      "dtypes: float64(3), int64(7), object(7)\n",
      "memory usage: 66.5+ KB\n"
     ]
    }
   ],
   "source": [
    "df.info()"
   ]
  },
  {
   "cell_type": "markdown",
   "metadata": {},
   "source": [
    "### Observations\n",
    "\n",
    "**Students Key In The Answers**"
   ]
  },
  {
   "cell_type": "markdown",
   "metadata": {},
   "source": [
    "### Check for missing values"
   ]
  },
  {
   "cell_type": "code",
   "execution_count": 8,
   "metadata": {},
   "outputs": [
    {
     "data": {
      "text/plain": [
       "company                      0\n",
       "rank                         0\n",
       "revenues                     0\n",
       "revenue_change               2\n",
       "profits                      1\n",
       "assets                       0\n",
       "profit_change               64\n",
       "ceo                          0\n",
       "industry                     0\n",
       "sector                       0\n",
       "previous_rank                0\n",
       "country                      0\n",
       "hq_location                  0\n",
       "website                      0\n",
       "years_on_global_500_list     0\n",
       "employees                    0\n",
       "total_stockholder_equity     0\n",
       "dtype: int64"
      ]
     },
     "execution_count": 8,
     "metadata": {},
     "output_type": "execute_result"
    }
   ],
   "source": [
    "df.isnull().sum()\n",
    "# null값을 셈해주는 명령어"
   ]
  },
  {
   "cell_type": "markdown",
   "metadata": {},
   "source": [
    "The above command shows that there are no missing values in the dataset."
   ]
  },
  {
   "cell_type": "markdown",
   "metadata": {},
   "source": [
    "## 8. Descriptive statistics with `describe()` function\n",
    "\n",
    "\n",
    "\n",
    "Descriptive or summary statistics in python – pandas, can be obtained by using the `describe()` function. The `describe()` function gives us the `count`, `mean`, `standard deviation(std)`, `minimum`, `Q1(25%)`, `median(50%)`, `Q3(75%)`, `IQR(Q3 - Q1)` and `maximum` values.\n",
    "\n",
    "\n",
    "I will demonstrate the usage of `describe()` function as follows."
   ]
  },
  {
   "cell_type": "markdown",
   "metadata": {},
   "source": [
    "### Summary statistics of numerical columns"
   ]
  },
  {
   "cell_type": "code",
   "execution_count": 9,
   "metadata": {},
   "outputs": [
    {
     "data": {
      "text/html": [
       "<div>\n",
       "<style scoped>\n",
       "    .dataframe tbody tr th:only-of-type {\n",
       "        vertical-align: middle;\n",
       "    }\n",
       "\n",
       "    .dataframe tbody tr th {\n",
       "        vertical-align: top;\n",
       "    }\n",
       "\n",
       "    .dataframe thead th {\n",
       "        text-align: right;\n",
       "    }\n",
       "</style>\n",
       "<table border=\"1\" class=\"dataframe\">\n",
       "  <thead>\n",
       "    <tr style=\"text-align: right;\">\n",
       "      <th></th>\n",
       "      <th>rank</th>\n",
       "      <th>revenues</th>\n",
       "      <th>revenue_change</th>\n",
       "      <th>profits</th>\n",
       "      <th>assets</th>\n",
       "      <th>profit_change</th>\n",
       "      <th>previous_rank</th>\n",
       "      <th>years_on_global_500_list</th>\n",
       "      <th>employees</th>\n",
       "      <th>total_stockholder_equity</th>\n",
       "    </tr>\n",
       "  </thead>\n",
       "  <tbody>\n",
       "    <tr>\n",
       "      <th>count</th>\n",
       "      <td>500.000000</td>\n",
       "      <td>500.000000</td>\n",
       "      <td>498.000000</td>\n",
       "      <td>499.000000</td>\n",
       "      <td>5.000000e+02</td>\n",
       "      <td>436.000000</td>\n",
       "      <td>500.000000</td>\n",
       "      <td>500.000000</td>\n",
       "      <td>5.000000e+02</td>\n",
       "      <td>500.000000</td>\n",
       "    </tr>\n",
       "    <tr>\n",
       "      <th>mean</th>\n",
       "      <td>250.500000</td>\n",
       "      <td>55416.358000</td>\n",
       "      <td>4.538353</td>\n",
       "      <td>3055.203206</td>\n",
       "      <td>2.436323e+05</td>\n",
       "      <td>24.152752</td>\n",
       "      <td>222.134000</td>\n",
       "      <td>15.036000</td>\n",
       "      <td>1.339983e+05</td>\n",
       "      <td>30628.076000</td>\n",
       "    </tr>\n",
       "    <tr>\n",
       "      <th>std</th>\n",
       "      <td>144.481833</td>\n",
       "      <td>45725.478963</td>\n",
       "      <td>28.549067</td>\n",
       "      <td>5171.981071</td>\n",
       "      <td>4.851937e+05</td>\n",
       "      <td>437.509566</td>\n",
       "      <td>146.941961</td>\n",
       "      <td>7.932752</td>\n",
       "      <td>1.700878e+05</td>\n",
       "      <td>43642.576833</td>\n",
       "    </tr>\n",
       "    <tr>\n",
       "      <th>min</th>\n",
       "      <td>1.000000</td>\n",
       "      <td>21609.000000</td>\n",
       "      <td>-67.300000</td>\n",
       "      <td>-13038.000000</td>\n",
       "      <td>3.717000e+03</td>\n",
       "      <td>-793.700000</td>\n",
       "      <td>0.000000</td>\n",
       "      <td>1.000000</td>\n",
       "      <td>3.280000e+02</td>\n",
       "      <td>-59909.000000</td>\n",
       "    </tr>\n",
       "    <tr>\n",
       "      <th>25%</th>\n",
       "      <td>125.750000</td>\n",
       "      <td>29003.000000</td>\n",
       "      <td>-5.900000</td>\n",
       "      <td>556.950000</td>\n",
       "      <td>3.658850e+04</td>\n",
       "      <td>-22.775000</td>\n",
       "      <td>92.750000</td>\n",
       "      <td>7.000000</td>\n",
       "      <td>4.293250e+04</td>\n",
       "      <td>7553.750000</td>\n",
       "    </tr>\n",
       "    <tr>\n",
       "      <th>50%</th>\n",
       "      <td>250.500000</td>\n",
       "      <td>40236.000000</td>\n",
       "      <td>0.550000</td>\n",
       "      <td>1761.600000</td>\n",
       "      <td>7.326150e+04</td>\n",
       "      <td>-0.350000</td>\n",
       "      <td>219.500000</td>\n",
       "      <td>17.000000</td>\n",
       "      <td>9.291050e+04</td>\n",
       "      <td>15809.500000</td>\n",
       "    </tr>\n",
       "    <tr>\n",
       "      <th>75%</th>\n",
       "      <td>375.250000</td>\n",
       "      <td>63926.750000</td>\n",
       "      <td>6.975000</td>\n",
       "      <td>3954.000000</td>\n",
       "      <td>1.805640e+05</td>\n",
       "      <td>17.700000</td>\n",
       "      <td>347.250000</td>\n",
       "      <td>23.000000</td>\n",
       "      <td>1.689172e+05</td>\n",
       "      <td>37828.500000</td>\n",
       "    </tr>\n",
       "    <tr>\n",
       "      <th>max</th>\n",
       "      <td>500.000000</td>\n",
       "      <td>485873.000000</td>\n",
       "      <td>442.300000</td>\n",
       "      <td>45687.000000</td>\n",
       "      <td>3.473238e+06</td>\n",
       "      <td>8909.500000</td>\n",
       "      <td>500.000000</td>\n",
       "      <td>23.000000</td>\n",
       "      <td>2.300000e+06</td>\n",
       "      <td>301893.000000</td>\n",
       "    </tr>\n",
       "  </tbody>\n",
       "</table>\n",
       "</div>"
      ],
      "text/plain": [
       "             rank       revenues  revenue_change       profits        assets   \n",
       "count  500.000000     500.000000      498.000000    499.000000  5.000000e+02  \\\n",
       "mean   250.500000   55416.358000        4.538353   3055.203206  2.436323e+05   \n",
       "std    144.481833   45725.478963       28.549067   5171.981071  4.851937e+05   \n",
       "min      1.000000   21609.000000      -67.300000 -13038.000000  3.717000e+03   \n",
       "25%    125.750000   29003.000000       -5.900000    556.950000  3.658850e+04   \n",
       "50%    250.500000   40236.000000        0.550000   1761.600000  7.326150e+04   \n",
       "75%    375.250000   63926.750000        6.975000   3954.000000  1.805640e+05   \n",
       "max    500.000000  485873.000000      442.300000  45687.000000  3.473238e+06   \n",
       "\n",
       "       profit_change  previous_rank  years_on_global_500_list     employees   \n",
       "count     436.000000     500.000000                500.000000  5.000000e+02  \\\n",
       "mean       24.152752     222.134000                 15.036000  1.339983e+05   \n",
       "std       437.509566     146.941961                  7.932752  1.700878e+05   \n",
       "min      -793.700000       0.000000                  1.000000  3.280000e+02   \n",
       "25%       -22.775000      92.750000                  7.000000  4.293250e+04   \n",
       "50%        -0.350000     219.500000                 17.000000  9.291050e+04   \n",
       "75%        17.700000     347.250000                 23.000000  1.689172e+05   \n",
       "max      8909.500000     500.000000                 23.000000  2.300000e+06   \n",
       "\n",
       "       total_stockholder_equity  \n",
       "count                500.000000  \n",
       "mean               30628.076000  \n",
       "std                43642.576833  \n",
       "min               -59909.000000  \n",
       "25%                 7553.750000  \n",
       "50%                15809.500000  \n",
       "75%                37828.500000  \n",
       "max               301893.000000  "
      ]
     },
     "execution_count": 9,
     "metadata": {},
     "output_type": "execute_result"
    }
   ],
   "source": [
    "df.describe()"
   ]
  },
  {
   "cell_type": "markdown",
   "metadata": {},
   "source": [
    "We can see that the `describe()` function excludes the character columns and gives summary statistics of numeric columns only."
   ]
  },
  {
   "cell_type": "markdown",
   "metadata": {},
   "source": [
    "### Summary statistics of character columns\n",
    "\n",
    "\n",
    "- The `describe()` function with an argument named `include` along with `value` object(include='object') gives the summary statistics of the character columns."
   ]
  },
  {
   "cell_type": "code",
   "execution_count": 10,
   "metadata": {},
   "outputs": [
    {
     "data": {
      "text/html": [
       "<div>\n",
       "<style scoped>\n",
       "    .dataframe tbody tr th:only-of-type {\n",
       "        vertical-align: middle;\n",
       "    }\n",
       "\n",
       "    .dataframe tbody tr th {\n",
       "        vertical-align: top;\n",
       "    }\n",
       "\n",
       "    .dataframe thead th {\n",
       "        text-align: right;\n",
       "    }\n",
       "</style>\n",
       "<table border=\"1\" class=\"dataframe\">\n",
       "  <thead>\n",
       "    <tr style=\"text-align: right;\">\n",
       "      <th></th>\n",
       "      <th>company</th>\n",
       "      <th>ceo</th>\n",
       "      <th>industry</th>\n",
       "      <th>sector</th>\n",
       "      <th>country</th>\n",
       "      <th>hq_location</th>\n",
       "      <th>website</th>\n",
       "    </tr>\n",
       "  </thead>\n",
       "  <tbody>\n",
       "    <tr>\n",
       "      <th>count</th>\n",
       "      <td>500</td>\n",
       "      <td>500</td>\n",
       "      <td>500</td>\n",
       "      <td>500</td>\n",
       "      <td>500</td>\n",
       "      <td>500</td>\n",
       "      <td>500</td>\n",
       "    </tr>\n",
       "    <tr>\n",
       "      <th>unique</th>\n",
       "      <td>500</td>\n",
       "      <td>500</td>\n",
       "      <td>58</td>\n",
       "      <td>21</td>\n",
       "      <td>34</td>\n",
       "      <td>235</td>\n",
       "      <td>500</td>\n",
       "    </tr>\n",
       "    <tr>\n",
       "      <th>top</th>\n",
       "      <td>Walmart</td>\n",
       "      <td>C. Douglas McMillon</td>\n",
       "      <td>Banks: Commercial and Savings</td>\n",
       "      <td>Financials</td>\n",
       "      <td>USA</td>\n",
       "      <td>Beijing, China</td>\n",
       "      <td>http://www.walmart.com</td>\n",
       "    </tr>\n",
       "    <tr>\n",
       "      <th>freq</th>\n",
       "      <td>1</td>\n",
       "      <td>1</td>\n",
       "      <td>51</td>\n",
       "      <td>118</td>\n",
       "      <td>132</td>\n",
       "      <td>56</td>\n",
       "      <td>1</td>\n",
       "    </tr>\n",
       "  </tbody>\n",
       "</table>\n",
       "</div>"
      ],
      "text/plain": [
       "        company                  ceo                       industry   \n",
       "count       500                  500                            500  \\\n",
       "unique      500                  500                             58   \n",
       "top     Walmart  C. Douglas McMillon  Banks: Commercial and Savings   \n",
       "freq          1                    1                             51   \n",
       "\n",
       "            sector country     hq_location                 website  \n",
       "count          500     500             500                     500  \n",
       "unique          21      34             235                     500  \n",
       "top     Financials     USA  Beijing, China  http://www.walmart.com  \n",
       "freq           118     132              56                       1  "
      ]
     },
     "execution_count": 10,
     "metadata": {},
     "output_type": "execute_result"
    }
   ],
   "source": [
    "df.describe(include=['object'])\n",
    "# 이 명령어는 오직 object 데이터 타입을 가진 열에 대한 통계적 요약을 생성합니다.\n",
    "# object 데이터 타입은 주로 텍스트나 범주형 데이터를 나타냅니다.\n",
    "# 따라서 이 명령어는 텍스트 데이터나 범주형 데이터에 대한 기술 통계를 제공합니다."
   ]
  },
  {
   "cell_type": "markdown",
   "metadata": {},
   "source": [
    "### Summary statistics of all the columns\n",
    "\n",
    "\n",
    "- The `describe()` function with include='all' gives the summary statistics of all the columns.\n",
    "\n",
    "\n",
    "- We need to add a variable named include='all' to get the summary statistics or descriptive statistics of both numeric and character columns."
   ]
  },
  {
   "cell_type": "code",
   "execution_count": 11,
   "metadata": {},
   "outputs": [
    {
     "data": {
      "text/html": [
       "<div>\n",
       "<style scoped>\n",
       "    .dataframe tbody tr th:only-of-type {\n",
       "        vertical-align: middle;\n",
       "    }\n",
       "\n",
       "    .dataframe tbody tr th {\n",
       "        vertical-align: top;\n",
       "    }\n",
       "\n",
       "    .dataframe thead th {\n",
       "        text-align: right;\n",
       "    }\n",
       "</style>\n",
       "<table border=\"1\" class=\"dataframe\">\n",
       "  <thead>\n",
       "    <tr style=\"text-align: right;\">\n",
       "      <th></th>\n",
       "      <th>company</th>\n",
       "      <th>rank</th>\n",
       "      <th>revenues</th>\n",
       "      <th>revenue_change</th>\n",
       "      <th>profits</th>\n",
       "      <th>assets</th>\n",
       "      <th>profit_change</th>\n",
       "      <th>ceo</th>\n",
       "      <th>industry</th>\n",
       "      <th>sector</th>\n",
       "      <th>previous_rank</th>\n",
       "      <th>country</th>\n",
       "      <th>hq_location</th>\n",
       "      <th>website</th>\n",
       "      <th>years_on_global_500_list</th>\n",
       "      <th>employees</th>\n",
       "      <th>total_stockholder_equity</th>\n",
       "    </tr>\n",
       "  </thead>\n",
       "  <tbody>\n",
       "    <tr>\n",
       "      <th>count</th>\n",
       "      <td>500</td>\n",
       "      <td>500.000000</td>\n",
       "      <td>500.000000</td>\n",
       "      <td>498.000000</td>\n",
       "      <td>499.000000</td>\n",
       "      <td>5.000000e+02</td>\n",
       "      <td>436.000000</td>\n",
       "      <td>500</td>\n",
       "      <td>500</td>\n",
       "      <td>500</td>\n",
       "      <td>500.000000</td>\n",
       "      <td>500</td>\n",
       "      <td>500</td>\n",
       "      <td>500</td>\n",
       "      <td>500.000000</td>\n",
       "      <td>5.000000e+02</td>\n",
       "      <td>500.000000</td>\n",
       "    </tr>\n",
       "    <tr>\n",
       "      <th>unique</th>\n",
       "      <td>500</td>\n",
       "      <td>NaN</td>\n",
       "      <td>NaN</td>\n",
       "      <td>NaN</td>\n",
       "      <td>NaN</td>\n",
       "      <td>NaN</td>\n",
       "      <td>NaN</td>\n",
       "      <td>500</td>\n",
       "      <td>58</td>\n",
       "      <td>21</td>\n",
       "      <td>NaN</td>\n",
       "      <td>34</td>\n",
       "      <td>235</td>\n",
       "      <td>500</td>\n",
       "      <td>NaN</td>\n",
       "      <td>NaN</td>\n",
       "      <td>NaN</td>\n",
       "    </tr>\n",
       "    <tr>\n",
       "      <th>top</th>\n",
       "      <td>Walmart</td>\n",
       "      <td>NaN</td>\n",
       "      <td>NaN</td>\n",
       "      <td>NaN</td>\n",
       "      <td>NaN</td>\n",
       "      <td>NaN</td>\n",
       "      <td>NaN</td>\n",
       "      <td>C. Douglas McMillon</td>\n",
       "      <td>Banks: Commercial and Savings</td>\n",
       "      <td>Financials</td>\n",
       "      <td>NaN</td>\n",
       "      <td>USA</td>\n",
       "      <td>Beijing, China</td>\n",
       "      <td>http://www.walmart.com</td>\n",
       "      <td>NaN</td>\n",
       "      <td>NaN</td>\n",
       "      <td>NaN</td>\n",
       "    </tr>\n",
       "    <tr>\n",
       "      <th>freq</th>\n",
       "      <td>1</td>\n",
       "      <td>NaN</td>\n",
       "      <td>NaN</td>\n",
       "      <td>NaN</td>\n",
       "      <td>NaN</td>\n",
       "      <td>NaN</td>\n",
       "      <td>NaN</td>\n",
       "      <td>1</td>\n",
       "      <td>51</td>\n",
       "      <td>118</td>\n",
       "      <td>NaN</td>\n",
       "      <td>132</td>\n",
       "      <td>56</td>\n",
       "      <td>1</td>\n",
       "      <td>NaN</td>\n",
       "      <td>NaN</td>\n",
       "      <td>NaN</td>\n",
       "    </tr>\n",
       "    <tr>\n",
       "      <th>mean</th>\n",
       "      <td>NaN</td>\n",
       "      <td>250.500000</td>\n",
       "      <td>55416.358000</td>\n",
       "      <td>4.538353</td>\n",
       "      <td>3055.203206</td>\n",
       "      <td>2.436323e+05</td>\n",
       "      <td>24.152752</td>\n",
       "      <td>NaN</td>\n",
       "      <td>NaN</td>\n",
       "      <td>NaN</td>\n",
       "      <td>222.134000</td>\n",
       "      <td>NaN</td>\n",
       "      <td>NaN</td>\n",
       "      <td>NaN</td>\n",
       "      <td>15.036000</td>\n",
       "      <td>1.339983e+05</td>\n",
       "      <td>30628.076000</td>\n",
       "    </tr>\n",
       "    <tr>\n",
       "      <th>std</th>\n",
       "      <td>NaN</td>\n",
       "      <td>144.481833</td>\n",
       "      <td>45725.478963</td>\n",
       "      <td>28.549067</td>\n",
       "      <td>5171.981071</td>\n",
       "      <td>4.851937e+05</td>\n",
       "      <td>437.509566</td>\n",
       "      <td>NaN</td>\n",
       "      <td>NaN</td>\n",
       "      <td>NaN</td>\n",
       "      <td>146.941961</td>\n",
       "      <td>NaN</td>\n",
       "      <td>NaN</td>\n",
       "      <td>NaN</td>\n",
       "      <td>7.932752</td>\n",
       "      <td>1.700878e+05</td>\n",
       "      <td>43642.576833</td>\n",
       "    </tr>\n",
       "    <tr>\n",
       "      <th>min</th>\n",
       "      <td>NaN</td>\n",
       "      <td>1.000000</td>\n",
       "      <td>21609.000000</td>\n",
       "      <td>-67.300000</td>\n",
       "      <td>-13038.000000</td>\n",
       "      <td>3.717000e+03</td>\n",
       "      <td>-793.700000</td>\n",
       "      <td>NaN</td>\n",
       "      <td>NaN</td>\n",
       "      <td>NaN</td>\n",
       "      <td>0.000000</td>\n",
       "      <td>NaN</td>\n",
       "      <td>NaN</td>\n",
       "      <td>NaN</td>\n",
       "      <td>1.000000</td>\n",
       "      <td>3.280000e+02</td>\n",
       "      <td>-59909.000000</td>\n",
       "    </tr>\n",
       "    <tr>\n",
       "      <th>25%</th>\n",
       "      <td>NaN</td>\n",
       "      <td>125.750000</td>\n",
       "      <td>29003.000000</td>\n",
       "      <td>-5.900000</td>\n",
       "      <td>556.950000</td>\n",
       "      <td>3.658850e+04</td>\n",
       "      <td>-22.775000</td>\n",
       "      <td>NaN</td>\n",
       "      <td>NaN</td>\n",
       "      <td>NaN</td>\n",
       "      <td>92.750000</td>\n",
       "      <td>NaN</td>\n",
       "      <td>NaN</td>\n",
       "      <td>NaN</td>\n",
       "      <td>7.000000</td>\n",
       "      <td>4.293250e+04</td>\n",
       "      <td>7553.750000</td>\n",
       "    </tr>\n",
       "    <tr>\n",
       "      <th>50%</th>\n",
       "      <td>NaN</td>\n",
       "      <td>250.500000</td>\n",
       "      <td>40236.000000</td>\n",
       "      <td>0.550000</td>\n",
       "      <td>1761.600000</td>\n",
       "      <td>7.326150e+04</td>\n",
       "      <td>-0.350000</td>\n",
       "      <td>NaN</td>\n",
       "      <td>NaN</td>\n",
       "      <td>NaN</td>\n",
       "      <td>219.500000</td>\n",
       "      <td>NaN</td>\n",
       "      <td>NaN</td>\n",
       "      <td>NaN</td>\n",
       "      <td>17.000000</td>\n",
       "      <td>9.291050e+04</td>\n",
       "      <td>15809.500000</td>\n",
       "    </tr>\n",
       "    <tr>\n",
       "      <th>75%</th>\n",
       "      <td>NaN</td>\n",
       "      <td>375.250000</td>\n",
       "      <td>63926.750000</td>\n",
       "      <td>6.975000</td>\n",
       "      <td>3954.000000</td>\n",
       "      <td>1.805640e+05</td>\n",
       "      <td>17.700000</td>\n",
       "      <td>NaN</td>\n",
       "      <td>NaN</td>\n",
       "      <td>NaN</td>\n",
       "      <td>347.250000</td>\n",
       "      <td>NaN</td>\n",
       "      <td>NaN</td>\n",
       "      <td>NaN</td>\n",
       "      <td>23.000000</td>\n",
       "      <td>1.689172e+05</td>\n",
       "      <td>37828.500000</td>\n",
       "    </tr>\n",
       "    <tr>\n",
       "      <th>max</th>\n",
       "      <td>NaN</td>\n",
       "      <td>500.000000</td>\n",
       "      <td>485873.000000</td>\n",
       "      <td>442.300000</td>\n",
       "      <td>45687.000000</td>\n",
       "      <td>3.473238e+06</td>\n",
       "      <td>8909.500000</td>\n",
       "      <td>NaN</td>\n",
       "      <td>NaN</td>\n",
       "      <td>NaN</td>\n",
       "      <td>500.000000</td>\n",
       "      <td>NaN</td>\n",
       "      <td>NaN</td>\n",
       "      <td>NaN</td>\n",
       "      <td>23.000000</td>\n",
       "      <td>2.300000e+06</td>\n",
       "      <td>301893.000000</td>\n",
       "    </tr>\n",
       "  </tbody>\n",
       "</table>\n",
       "</div>"
      ],
      "text/plain": [
       "        company        rank       revenues  revenue_change       profits   \n",
       "count       500  500.000000     500.000000      498.000000    499.000000  \\\n",
       "unique      500         NaN            NaN             NaN           NaN   \n",
       "top     Walmart         NaN            NaN             NaN           NaN   \n",
       "freq          1         NaN            NaN             NaN           NaN   \n",
       "mean        NaN  250.500000   55416.358000        4.538353   3055.203206   \n",
       "std         NaN  144.481833   45725.478963       28.549067   5171.981071   \n",
       "min         NaN    1.000000   21609.000000      -67.300000 -13038.000000   \n",
       "25%         NaN  125.750000   29003.000000       -5.900000    556.950000   \n",
       "50%         NaN  250.500000   40236.000000        0.550000   1761.600000   \n",
       "75%         NaN  375.250000   63926.750000        6.975000   3954.000000   \n",
       "max         NaN  500.000000  485873.000000      442.300000  45687.000000   \n",
       "\n",
       "              assets  profit_change                  ceo   \n",
       "count   5.000000e+02     436.000000                  500  \\\n",
       "unique           NaN            NaN                  500   \n",
       "top              NaN            NaN  C. Douglas McMillon   \n",
       "freq             NaN            NaN                    1   \n",
       "mean    2.436323e+05      24.152752                  NaN   \n",
       "std     4.851937e+05     437.509566                  NaN   \n",
       "min     3.717000e+03    -793.700000                  NaN   \n",
       "25%     3.658850e+04     -22.775000                  NaN   \n",
       "50%     7.326150e+04      -0.350000                  NaN   \n",
       "75%     1.805640e+05      17.700000                  NaN   \n",
       "max     3.473238e+06    8909.500000                  NaN   \n",
       "\n",
       "                             industry      sector  previous_rank country   \n",
       "count                             500         500     500.000000     500  \\\n",
       "unique                             58          21            NaN      34   \n",
       "top     Banks: Commercial and Savings  Financials            NaN     USA   \n",
       "freq                               51         118            NaN     132   \n",
       "mean                              NaN         NaN     222.134000     NaN   \n",
       "std                               NaN         NaN     146.941961     NaN   \n",
       "min                               NaN         NaN       0.000000     NaN   \n",
       "25%                               NaN         NaN      92.750000     NaN   \n",
       "50%                               NaN         NaN     219.500000     NaN   \n",
       "75%                               NaN         NaN     347.250000     NaN   \n",
       "max                               NaN         NaN     500.000000     NaN   \n",
       "\n",
       "           hq_location                 website  years_on_global_500_list   \n",
       "count              500                     500                500.000000  \\\n",
       "unique             235                     500                       NaN   \n",
       "top     Beijing, China  http://www.walmart.com                       NaN   \n",
       "freq                56                       1                       NaN   \n",
       "mean               NaN                     NaN                 15.036000   \n",
       "std                NaN                     NaN                  7.932752   \n",
       "min                NaN                     NaN                  1.000000   \n",
       "25%                NaN                     NaN                  7.000000   \n",
       "50%                NaN                     NaN                 17.000000   \n",
       "75%                NaN                     NaN                 23.000000   \n",
       "max                NaN                     NaN                 23.000000   \n",
       "\n",
       "           employees  total_stockholder_equity  \n",
       "count   5.000000e+02                500.000000  \n",
       "unique           NaN                       NaN  \n",
       "top              NaN                       NaN  \n",
       "freq             NaN                       NaN  \n",
       "mean    1.339983e+05              30628.076000  \n",
       "std     1.700878e+05              43642.576833  \n",
       "min     3.280000e+02             -59909.000000  \n",
       "25%     4.293250e+04               7553.750000  \n",
       "50%     9.291050e+04              15809.500000  \n",
       "75%     1.689172e+05              37828.500000  \n",
       "max     2.300000e+06             301893.000000  "
      ]
     },
     "execution_count": 11,
     "metadata": {},
     "output_type": "execute_result"
    }
   ],
   "source": [
    "df.describe(include='all')"
   ]
  },
  {
   "cell_type": "markdown",
   "metadata": {},
   "source": [
    "## 9. Computation of measures of central tendency \n",
    "\n",
    "\n",
    "- In this section, I will compute the measures of central tendency - mean, median and mode. \n",
    "\n",
    "- These statistics give us a approximate value of the middle of a numeric variable.\n",
    "\n",
    "- I will use the `revenues` variable for calculations."
   ]
  },
  {
   "cell_type": "markdown",
   "metadata": {},
   "source": [
    "### Mean"
   ]
  },
  {
   "cell_type": "code",
   "execution_count": 12,
   "metadata": {},
   "outputs": [
    {
     "name": "stdout",
     "output_type": "stream",
     "text": [
      "55416.358\n"
     ]
    }
   ],
   "source": [
    "mean = df['revenues'].mean()\n",
    "\n",
    "print(mean)"
   ]
  },
  {
   "cell_type": "markdown",
   "metadata": {},
   "source": [
    "### Median"
   ]
  },
  {
   "cell_type": "code",
   "execution_count": 13,
   "metadata": {},
   "outputs": [
    {
     "name": "stdout",
     "output_type": "stream",
     "text": [
      "40236.0\n"
     ]
    }
   ],
   "source": [
    "median = df['revenues'].median()\n",
    "\n",
    "print(median)"
   ]
  },
  {
   "cell_type": "markdown",
   "metadata": {},
   "source": [
    "### Mode"
   ]
  },
  {
   "cell_type": "code",
   "execution_count": 14,
   "metadata": {},
   "outputs": [
    {
     "name": "stdout",
     "output_type": "stream",
     "text": [
      "0    23044\n",
      "1    29003\n",
      "2    30390\n",
      "Name: revenues, dtype: int64\n"
     ]
    }
   ],
   "source": [
    "mode = df['revenues'].mode()\n",
    "\n",
    "print(mode)\n",
    "# mode는 최빈값"
   ]
  },
  {
   "cell_type": "markdown",
   "metadata": {},
   "source": [
    "### Observation\n",
    "\n",
    "\n",
    "**Students Key In The Answers**"
   ]
  },
  {
   "cell_type": "markdown",
   "metadata": {},
   "source": [
    "### Plot the distribution "
   ]
  },
  {
   "cell_type": "code",
   "execution_count": 15,
   "metadata": {},
   "outputs": [
    {
     "data": {
      "text/plain": [
       "<AxesSubplot:xlabel='revenues', ylabel='Density'>"
      ]
     },
     "execution_count": 15,
     "metadata": {},
     "output_type": "execute_result"
    },
    {
     "data": {
      "image/png": "[encoded data removed]",
      "text/plain": [
       "<Figure size 640x480 with 1 Axes>"
      ]
     },
     "metadata": {},
     "output_type": "display_data"
    }
   ],
   "source": [
    "data = df['revenues']\n",
    "\n",
    "sns.distplot(data, bins=10, hist=True, kde=True, label = 'revenues')"
   ]
  },
  {
   "cell_type": "markdown",
   "metadata": {},
   "source": [
    "The above plot confirms that the `revenues` is positively skewed."
   ]
  },
  {
   "cell_type": "markdown",
   "metadata": {},
   "source": [
    "## 10. Computation of measures of dispersion or variability\n",
    "\n",
    "\n",
    "- In this section, I will compute the measures of dispersion or variability - minimum and maximum values, range, variance, standard-deviation, IQR. \n",
    "\n",
    "- Again, I will use the `revenues` variable for calculations.\n"
   ]
  },
  {
   "cell_type": "markdown",
   "metadata": {},
   "source": [
    "### Minimum value"
   ]
  },
  {
   "cell_type": "code",
   "execution_count": 16,
   "metadata": {},
   "outputs": [
    {
     "data": {
      "text/plain": [
       "21609"
      ]
     },
     "execution_count": 16,
     "metadata": {},
     "output_type": "execute_result"
    }
   ],
   "source": [
    "df['revenues'].min()"
   ]
  },
  {
   "cell_type": "markdown",
   "metadata": {},
   "source": [
    "### Maximum value"
   ]
  },
  {
   "cell_type": "code",
   "execution_count": 17,
   "metadata": {},
   "outputs": [
    {
     "data": {
      "text/plain": [
       "485873"
      ]
     },
     "execution_count": 17,
     "metadata": {},
     "output_type": "execute_result"
    }
   ],
   "source": [
    "df['revenues'].max()"
   ]
  },
  {
   "cell_type": "markdown",
   "metadata": {},
   "source": [
    "### Range"
   ]
  },
  {
   "cell_type": "code",
   "execution_count": 18,
   "metadata": {},
   "outputs": [
    {
     "data": {
      "text/plain": [
       "464264"
      ]
     },
     "execution_count": 18,
     "metadata": {},
     "output_type": "execute_result"
    }
   ],
   "source": [
    "df['revenues'].max() - df['revenues'].min()"
   ]
  },
  {
   "cell_type": "markdown",
   "metadata": {},
   "source": [
    "### Variance"
   ]
  },
  {
   "cell_type": "code",
   "execution_count": 19,
   "metadata": {},
   "outputs": [
    {
     "data": {
      "text/plain": [
       "2090819426.4387133"
      ]
     },
     "execution_count": 19,
     "metadata": {},
     "output_type": "execute_result"
    }
   ],
   "source": [
    "df['revenues'].var()"
   ]
  },
  {
   "cell_type": "markdown",
   "metadata": {},
   "source": [
    "### Standard deviation"
   ]
  },
  {
   "cell_type": "code",
   "execution_count": 20,
   "metadata": {},
   "outputs": [
    {
     "data": {
      "text/plain": [
       "45725.47896346974"
      ]
     },
     "execution_count": 20,
     "metadata": {},
     "output_type": "execute_result"
    }
   ],
   "source": [
    "df['revenues'].std()"
   ]
  },
  {
   "cell_type": "markdown",
   "metadata": {},
   "source": [
    "### Median (Q2 or 50th percentile)"
   ]
  },
  {
   "cell_type": "code",
   "execution_count": 21,
   "metadata": {},
   "outputs": [
    {
     "data": {
      "text/plain": [
       "40236.0"
      ]
     },
     "execution_count": 21,
     "metadata": {},
     "output_type": "execute_result"
    }
   ],
   "source": [
    "Q2 = df['revenues'].quantile(0.5)\n",
    "# 중간값\n",
    "Q2"
   ]
  },
  {
   "cell_type": "markdown",
   "metadata": {},
   "source": [
    "### Q3 or 75th percentile"
   ]
  },
  {
   "cell_type": "code",
   "execution_count": 22,
   "metadata": {},
   "outputs": [
    {
     "data": {
      "text/plain": [
       "63926.75"
      ]
     },
     "execution_count": 22,
     "metadata": {},
     "output_type": "execute_result"
    }
   ],
   "source": [
    "Q3 = df['revenues'].quantile(0.75)\n",
    "# 75퍼센트 지점\n",
    "Q3"
   ]
  },
  {
   "cell_type": "markdown",
   "metadata": {},
   "source": [
    "### Q1 or 25th percentile"
   ]
  },
  {
   "cell_type": "code",
   "execution_count": 23,
   "metadata": {},
   "outputs": [
    {
     "data": {
      "text/plain": [
       "29003.0"
      ]
     },
     "execution_count": 23,
     "metadata": {},
     "output_type": "execute_result"
    }
   ],
   "source": [
    "Q1 = df['revenues'].quantile(0.25)\n",
    "# 25퍼센트 지점\n",
    "Q1"
   ]
  },
  {
   "cell_type": "markdown",
   "metadata": {},
   "source": [
    "### Interquartile Range\n"
   ]
  },
  {
   "cell_type": "code",
   "execution_count": 24,
   "metadata": {},
   "outputs": [
    {
     "data": {
      "text/plain": [
       "34923.75"
      ]
     },
     "execution_count": 24,
     "metadata": {},
     "output_type": "execute_result"
    }
   ],
   "source": [
    "IQR = Q3  - Q1\n",
    "\n",
    "IQR"
   ]
  },
  {
   "cell_type": "markdown",
   "metadata": {},
   "source": [
    "### Draw boxplot"
   ]
  },
  {
   "cell_type": "code",
   "execution_count": 25,
   "metadata": {},
   "outputs": [
    {
     "data": {
      "image/png": "[encoded data removed]",
      "text/plain": [
       "<Figure size 640x480 with 1 Axes>"
      ]
     },
     "metadata": {},
     "output_type": "display_data"
    }
   ],
   "source": [
    "plt.boxplot(df['revenues'])\n",
    "\n",
    "plt.show()"
   ]
  },
  {
   "cell_type": "markdown",
   "metadata": {},
   "source": [
    "## 11. Computation of measures of shape of distribution\n",
    "\n",
    "\n",
    "- In this section, I will compute the measures of shape of distribution - skewness and kurtosis. \n",
    "\n",
    "- Again, I will use the `revenues` variable for calculations.\n"
   ]
  },
  {
   "cell_type": "markdown",
   "metadata": {},
   "source": [
    "### Skewness\n"
   ]
  },
  {
   "cell_type": "code",
   "execution_count": 26,
   "metadata": {},
   "outputs": [
    {
     "data": {
      "text/plain": [
       "3.6434904011380373"
      ]
     },
     "execution_count": 26,
     "metadata": {},
     "output_type": "execute_result"
    }
   ],
   "source": [
    "df['revenues'].skew()\n",
    "# 양수면 오른쪽에 기울어져 있는 데이터 분포 0이면 대칭, 음수이면 왼쪽으로 치우쳐 있는 그래프"
   ]
  },
  {
   "cell_type": "markdown",
   "metadata": {},
   "source": [
    "### Interpretation\n",
    "\n",
    "**Students Key In The Answers**"
   ]
  },
  {
   "cell_type": "markdown",
   "metadata": {},
   "source": [
    "### Kurtosis"
   ]
  },
  {
   "cell_type": "code",
   "execution_count": 27,
   "metadata": {},
   "outputs": [
    {
     "data": {
      "text/plain": [
       "21.006953097327095"
      ]
     },
     "execution_count": 27,
     "metadata": {},
     "output_type": "execute_result"
    }
   ],
   "source": [
    "df['revenues'].kurt()\n",
    "\n",
    "# 만약 결과가 0보다 크면, 분포는 뾰족한 모양입니다. (양의 첨도)\n",
    "# 만약 결과가 0이면, 분포는 정규 분포와 유사합니다.\n",
    "# 만약 결과가 0보다 작으면, 분포는 둥근 모양입니다. (음의 첨도)"
   ]
  },
  {
   "cell_type": "markdown",
   "metadata": {},
   "source": [
    "### Interpretation\n",
    "\n",
    "**Students Key In The Answers**"
   ]
  }
 ],
 "metadata": {
  "kernelspec": {
   "display_name": "AI",
   "language": "python",
   "name": "ai"
  },
  "language_info": {
   "codemirror_mode": {
    "name": "ipython",
    "version": 3
   },
   "file_extension": ".py",
   "mimetype": "text/x-python",
   "name": "python",
   "nbconvert_exporter": "python",
   "pygments_lexer": "ipython3",
   "version": "3.8.17"
  }
 },
 "nbformat": 4,
 "nbformat_minor": 2
}
