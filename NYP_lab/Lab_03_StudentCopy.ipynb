{
 "cells": [
  {
   "cell_type": "markdown",
   "id": "dd890a3f",
   "metadata": {},
   "source": [
    "## IT2313 - Programming for Data Science\n",
    "## Practical 3 \n",
    "## NumPy for Numerical Computations (Part 1)"
   ]
  },
  {
   "cell_type": "markdown",
   "id": "9360a8f0",
   "metadata": {},
   "source": [
    "### Let try to practise our NumPy knowledge. We will start off with a few simple tasks in this Practical"
   ]
  },
  {
   "cell_type": "markdown",
   "id": "43852209",
   "metadata": {},
   "source": [
    "### Creating NumPy Arrays"
   ]
  },
  {
   "cell_type": "markdown",
   "id": "a4f29bcb",
   "metadata": {},
   "source": [
    "#### Q1 - Import NumPy as np"
   ]
  },
  {
   "cell_type": "code",
   "execution_count": 2,
   "id": "47b87943",
   "metadata": {},
   "outputs": [],
   "source": [
    "import numpy as np"
   ]
  },
  {
   "cell_type": "markdown",
   "id": "862dfdea",
   "metadata": {},
   "source": [
    "#### Q2 - Create an array of 10 zeros"
   ]
  },
  {
   "cell_type": "code",
   "execution_count": 3,
   "id": "c06ce41f",
   "metadata": {},
   "outputs": [
    {
     "data": {
      "text/plain": [
       "array([0., 0., 0., 0., 0., 0., 0., 0., 0., 0.])"
      ]
     },
     "execution_count": 3,
     "metadata": {},
     "output_type": "execute_result"
    }
   ],
   "source": [
    "# Type your answer here\n",
    "np.zeros(10)"
   ]
  },
  {
   "cell_type": "markdown",
   "id": "c3ff027a",
   "metadata": {},
   "source": [
    "#### Q3 - Create an array of 10 ones"
   ]
  },
  {
   "cell_type": "code",
   "execution_count": 4,
   "id": "25f8595b",
   "metadata": {},
   "outputs": [
    {
     "data": {
      "text/plain": [
       "array([1., 1., 1., 1., 1., 1., 1., 1., 1., 1.])"
      ]
     },
     "execution_count": 4,
     "metadata": {},
     "output_type": "execute_result"
    }
   ],
   "source": [
    "# Type your answer here\n",
    "np.ones(10)"
   ]
  },
  {
   "cell_type": "markdown",
   "id": "82d2841a",
   "metadata": {},
   "source": [
    "#### Q4 - Create an array of 10 fives"
   ]
  },
  {
   "cell_type": "code",
   "execution_count": 8,
   "id": "3508bcce",
   "metadata": {},
   "outputs": [
    {
     "name": "stdout",
     "output_type": "stream",
     "text": [
      "[5. 5. 5. 5. 5. 5. 5. 5. 5. 5.]\n"
     ]
    }
   ],
   "source": [
    "# Type your answer here\n",
    "arr1 = np.ones(10)*5\n",
    "print(arr1)"
   ]
  },
  {
   "cell_type": "markdown",
   "id": "d3c78695",
   "metadata": {},
   "source": [
    "#### Q5 - Create an array of the integers from 20 to 40"
   ]
  },
  {
   "cell_type": "code",
   "execution_count": 9,
   "id": "8fac9506",
   "metadata": {},
   "outputs": [
    {
     "name": "stdout",
     "output_type": "stream",
     "text": [
      "[20 21 22 23 24 25 26 27 28 29 30 31 32 33 34 35 36 37 38 39]\n",
      "total:  20\n"
     ]
    }
   ],
   "source": [
    "# Type your answer here\n",
    "arr2 = np.arange(20,40,1)\n",
    "print(arr2)\n",
    "print(\"total: \", len(arr2))"
   ]
  },
  {
   "cell_type": "markdown",
   "id": "0ada6e78",
   "metadata": {},
   "source": [
    "#### Q6 - Create an array of all the Even integers from 20 to 40"
   ]
  },
  {
   "cell_type": "code",
   "execution_count": 11,
   "id": "b995cf94",
   "metadata": {},
   "outputs": [
    {
     "name": "stdout",
     "output_type": "stream",
     "text": [
      "[20 22 24 26 28 30 32 34 36 38 40]\n"
     ]
    }
   ],
   "source": [
    "# Type your answer here\n",
    "start = 20\n",
    "end = 40\n",
    "\n",
    "# start부터 end까지 범위에서 짝수 정수를 생성\n",
    "even_integers = np.arange(start, end+1, 2)\n",
    "\n",
    "print(even_integers)\n"
   ]
  },
  {
   "cell_type": "markdown",
   "id": "209b71f2",
   "metadata": {},
   "source": [
    "#### Q7 - Create an 10 evenly spaced values from 20 to 40\n",
    "##### The formula for the step size (step) is calculated as:\n",
    "##### step = (stop - start) / (num - 1), num is the number of evenly spaced values to generate"
   ]
  },
  {
   "cell_type": "code",
   "execution_count": 15,
   "id": "5e5eceb3",
   "metadata": {},
   "outputs": [
    {
     "name": "stdout",
     "output_type": "stream",
     "text": [
      "[20. 21. 22. 23. 24. 25. 26. 27. 28. 29. 30. 31. 32. 33. 34. 35. 36. 37.\n",
      " 38. 39.]\n",
      "total:  20\n"
     ]
    }
   ],
   "source": [
    "# Type your answer here\n",
    "arr3 = np.linspace(20,39,20)\n",
    "print(arr3)\n",
    "print(\"total: \", len(arr3))"
   ]
  },
  {
   "cell_type": "markdown",
   "id": "2578303b",
   "metadata": {},
   "source": [
    "#### Q8 - Create a 3x3 matrix with values ranging from 0 to 8"
   ]
  },
  {
   "cell_type": "code",
   "execution_count": 18,
   "id": "3eda9e5a",
   "metadata": {},
   "outputs": [
    {
     "data": {
      "text/plain": [
       "array([[0, 1, 2],\n",
       "       [3, 4, 5],\n",
       "       [6, 7, 8]])"
      ]
     },
     "execution_count": 18,
     "metadata": {},
     "output_type": "execute_result"
    }
   ],
   "source": [
    "# Type your answer here\n",
    "\n",
    "# Type your answer here\n",
    "a = np.arange(0,9,1)\n",
    "a.reshape(3,3)"
   ]
  },
  {
   "cell_type": "markdown",
   "id": "a671d0ca",
   "metadata": {},
   "source": [
    "#### Q9 - Create a 3x3 matrix with values of 6"
   ]
  },
  {
   "cell_type": "code",
   "execution_count": 37,
   "id": "14cdbddb",
   "metadata": {},
   "outputs": [
    {
     "name": "stdout",
     "output_type": "stream",
     "text": [
      "[[6. 6. 6.]\n",
      " [6. 6. 6.]\n",
      " [6. 6. 6.]]\n"
     ]
    }
   ],
   "source": [
    "# Type your answer here\n",
    "arr9 = np.ones((3,3))*6\n",
    "print(arr9)"
   ]
  },
  {
   "cell_type": "markdown",
   "id": "281dcac8",
   "metadata": {},
   "source": [
    "#### Q10 - Use NumPy to generate 10 random number between 0 and 1"
   ]
  },
  {
   "cell_type": "code",
   "execution_count": 21,
   "id": "a179c95c",
   "metadata": {},
   "outputs": [
    {
     "name": "stdout",
     "output_type": "stream",
     "text": [
      "[0.15583831 0.69342601 0.37255926 0.53946336 0.33646883 0.91101525\n",
      " 0.10570753 0.64926529 0.59365457 0.51332484]\n"
     ]
    }
   ],
   "source": [
    "# Type your answer here\n",
    "arr10 = np.random.rand(10,)\n",
    "print(arr10)"
   ]
  },
  {
   "cell_type": "markdown",
   "id": "3cc1c044",
   "metadata": {},
   "source": [
    "#### Q11 - Use NumPy to create the following matrix\n",
    "#### Note - Use 2 different approaches"
   ]
  },
  {
   "cell_type": "code",
   "execution_count": 51,
   "id": "db328f90",
   "metadata": {},
   "outputs": [
    {
     "name": "stdout",
     "output_type": "stream",
     "text": [
      "[[0.01 0.02 0.03 0.04 0.05 0.06 0.07 0.08 0.09 0.1 ]\n",
      " [0.11 0.12 0.13 0.14 0.15 0.16 0.17 0.18 0.19 0.2 ]\n",
      " [0.21 0.22 0.23 0.24 0.25 0.26 0.27 0.28 0.29 0.3 ]\n",
      " [0.31 0.32 0.33 0.34 0.35 0.36 0.37 0.38 0.39 0.4 ]\n",
      " [0.41 0.42 0.43 0.44 0.45 0.46 0.47 0.48 0.49 0.5 ]\n",
      " [0.51 0.52 0.53 0.54 0.55 0.56 0.57 0.58 0.59 0.6 ]\n",
      " [0.61 0.62 0.63 0.64 0.65 0.66 0.67 0.68 0.69 0.7 ]\n",
      " [0.71 0.72 0.73 0.74 0.75 0.76 0.77 0.78 0.79 0.8 ]\n",
      " [0.81 0.82 0.83 0.84 0.85 0.86 0.87 0.88 0.89 0.9 ]\n",
      " [0.91 0.92 0.93 0.94 0.95 0.96 0.97 0.98 0.99 1.  ]]\n"
     ]
    }
   ],
   "source": [
    "# Type your answer here\n",
    "arr11_a = np.arange(0.01, 1.01, 0.01).reshape((10,10))\n",
    "print(arr11_a)"
   ]
  },
  {
   "cell_type": "code",
   "execution_count": 53,
   "id": "22c65701",
   "metadata": {},
   "outputs": [
    {
     "name": "stdout",
     "output_type": "stream",
     "text": [
      "[[0.01 0.02 0.03 0.04 0.05 0.06 0.07 0.08 0.09 0.1 ]\n",
      " [0.11 0.12 0.13 0.14 0.15 0.16 0.17 0.18 0.19 0.2 ]\n",
      " [0.21 0.22 0.23 0.24 0.25 0.26 0.27 0.28 0.29 0.3 ]\n",
      " [0.31 0.32 0.33 0.34 0.35 0.36 0.37 0.38 0.39 0.4 ]\n",
      " [0.41 0.42 0.43 0.44 0.45 0.46 0.47 0.48 0.49 0.5 ]\n",
      " [0.51 0.52 0.53 0.54 0.55 0.56 0.57 0.58 0.59 0.6 ]\n",
      " [0.61 0.62 0.63 0.64 0.65 0.66 0.67 0.68 0.69 0.7 ]\n",
      " [0.71 0.72 0.73 0.74 0.75 0.76 0.77 0.78 0.79 0.8 ]\n",
      " [0.81 0.82 0.83 0.84 0.85 0.86 0.87 0.88 0.89 0.9 ]\n",
      " [0.91 0.92 0.93 0.94 0.95 0.96 0.97 0.98 0.99 1.  ]]\n"
     ]
    }
   ],
   "source": [
    "# Type your answer here\n",
    "arr11_b = np.linspace(0.01, 1, 100).reshape(10,10)\n",
    "print(arr11_b)"
   ]
  },
  {
   "cell_type": "markdown",
   "id": "b5d8979c",
   "metadata": {},
   "source": [
    "### Creating NumPy Indexing and Selection"
   ]
  },
  {
   "cell_type": "markdown",
   "id": "4e20910f",
   "metadata": {},
   "source": [
    "#### Question 12 - You will be giving a few matrices, and required to to produce the resulting matrix outputs "
   ]
  },
  {
   "cell_type": "code",
   "execution_count": 55,
   "id": "dd244d9e",
   "metadata": {},
   "outputs": [
    {
     "data": {
      "text/plain": [
       "array([[ 1,  2,  3,  4,  5],\n",
       "       [ 6,  7,  8,  9, 10],\n",
       "       [11, 12, 13, 14, 15],\n",
       "       [16, 17, 18, 19, 20],\n",
       "       [21, 22, 23, 24, 25]])"
      ]
     },
     "execution_count": 55,
     "metadata": {},
     "output_type": "execute_result"
    }
   ],
   "source": [
    "mat = np.arange(1,26).reshape(5,5)\n",
    "mat"
   ]
  },
  {
   "cell_type": "code",
   "execution_count": 56,
   "id": "909a5fda",
   "metadata": {},
   "outputs": [
    {
     "data": {
      "text/plain": [
       "array([[12, 13, 14, 15],\n",
       "       [17, 18, 19, 20],\n",
       "       [22, 23, 24, 25]])"
      ]
     },
     "execution_count": 56,
     "metadata": {},
     "output_type": "execute_result"
    }
   ],
   "source": [
    "# Q12(a)\n",
    "# Type your answer here\n",
    "mat[2:,1:]"
   ]
  },
  {
   "cell_type": "code",
   "execution_count": 57,
   "id": "52b0d515",
   "metadata": {},
   "outputs": [
    {
     "data": {
      "text/plain": [
       "20"
      ]
     },
     "execution_count": 57,
     "metadata": {},
     "output_type": "execute_result"
    }
   ],
   "source": [
    "# Q12(b)\n",
    "# Type your answer here\n",
    "mat[3,4]"
   ]
  },
  {
   "cell_type": "code",
   "execution_count": 72,
   "id": "bef29c43",
   "metadata": {},
   "outputs": [
    {
     "data": {
      "text/plain": [
       "array([ 2,  7, 12])"
      ]
     },
     "execution_count": 72,
     "metadata": {},
     "output_type": "execute_result"
    }
   ],
   "source": [
    "# Q12(c)\n",
    "# Type your answer here\n",
    "mat[0:3, 1]"
   ]
  },
  {
   "cell_type": "code",
   "execution_count": 68,
   "id": "1912c97c",
   "metadata": {},
   "outputs": [
    {
     "data": {
      "text/plain": [
       "array([[ 2],\n",
       "       [ 7],\n",
       "       [12]])"
      ]
     },
     "execution_count": 68,
     "metadata": {},
     "output_type": "execute_result"
    }
   ],
   "source": [
    "# Q12(e)\n",
    "# Type your answer here\n",
    "mat[0:3, 1:2]"
   ]
  },
  {
   "cell_type": "code",
   "execution_count": 64,
   "id": "e0125438",
   "metadata": {},
   "outputs": [
    {
     "data": {
      "text/plain": [
       "array([21, 22, 23, 24, 25])"
      ]
     },
     "execution_count": 64,
     "metadata": {},
     "output_type": "execute_result"
    }
   ],
   "source": [
    "# Q12(f)\n",
    "# Type your answer here\n",
    "mat[4]"
   ]
  },
  {
   "cell_type": "code",
   "execution_count": 66,
   "id": "99129006",
   "metadata": {},
   "outputs": [
    {
     "data": {
      "text/plain": [
       "array([[16, 17, 18, 19, 20],\n",
       "       [21, 22, 23, 24, 25]])"
      ]
     },
     "execution_count": 66,
     "metadata": {},
     "output_type": "execute_result"
    }
   ],
   "source": [
    "# Q12(g)\n",
    "# Type your answer here\n",
    "mat[3:5,]"
   ]
  },
  {
   "cell_type": "code",
   "execution_count": 77,
   "id": "dc9dabfa",
   "metadata": {},
   "outputs": [
    {
     "name": "stdout",
     "output_type": "stream",
     "text": [
      "[[ 10  11]\n",
      " [-10  11]]\n"
     ]
    }
   ],
   "source": [
    "A=np.array([[-2,3], [0,1]])\n",
    "B=np.array([[8,1], [-5,4]])\n",
    "print(3*A + 2*B)"
   ]
  },
  {
   "cell_type": "markdown",
   "id": "e9c00bc6",
   "metadata": {},
   "source": [
    "#### Q13 - Get the sum of all the values in the matrix"
   ]
  },
  {
   "cell_type": "code",
   "execution_count": 82,
   "id": "823bfdfa",
   "metadata": {},
   "outputs": [
    {
     "data": {
      "text/plain": [
       "array([[ 5,  6,  7],\n",
       "       [ 8,  9, 10],\n",
       "       [11, 12, 13]])"
      ]
     },
     "execution_count": 82,
     "metadata": {},
     "output_type": "execute_result"
    }
   ],
   "source": [
    "# Type your answer here\n",
    "mat = np.arange(5,14).reshape(3,3)\n",
    "mat"
   ]
  },
  {
   "cell_type": "code",
   "execution_count": 86,
   "id": "8c3a8f49",
   "metadata": {},
   "outputs": [
    {
     "name": "stdout",
     "output_type": "stream",
     "text": [
      "81\n"
     ]
    }
   ],
   "source": [
    "# Type your answer here\n",
    "print(mat.sum())"
   ]
  },
  {
   "cell_type": "code",
   "execution_count": 87,
   "id": "ca320abd",
   "metadata": {},
   "outputs": [
    {
     "data": {
      "text/plain": [
       "81"
      ]
     },
     "execution_count": 87,
     "metadata": {},
     "output_type": "execute_result"
    }
   ],
   "source": [
    "# Type your answer here\n",
    "np.sum(mat)"
   ]
  },
  {
   "cell_type": "markdown",
   "id": "d1668de0",
   "metadata": {},
   "source": [
    "### Sorting and Filtering of NumPy Arrays"
   ]
  },
  {
   "cell_type": "markdown",
   "id": "7b126381",
   "metadata": {},
   "source": [
    "#### Q13 - The medals_2023,csv file contains all the medals won by countries in SEA Games 2023"
   ]
  },
  {
   "cell_type": "code",
   "execution_count": 22,
   "id": "bc9dc8b1",
   "metadata": {},
   "outputs": [
    {
     "name": "stdout",
     "output_type": "stream",
     "text": [
      "['Rank', 'Country', 'Gold', 'Silver', 'Bronze', 'Total']\n",
      "['1', 'Vietnam', '136', '105', '114', '355']\n",
      "['2', 'Thailand', '108', '96', '109', '313']\n",
      "['3', 'Indonesia', '87', '80', '109', '276']\n",
      "['4', 'Cambodia', '81', '74', '127', '282']\n",
      "['5', 'Philippines', '58', '86', '116', '260']\n",
      "['6', 'Singapore', '51', '42', '64', '157']\n",
      "['7', 'Malaysia', '34', '45', '96', '175']\n",
      "['8', 'Myanmar', '21', '25', '68', '114']\n",
      "['9', 'Laos', '6', '22', '60', '88']\n",
      "['10', 'Brunei', '2', '1', '6', '9']\n",
      "['11', 'Timor-Leste', '0', '0', '8', '8']\n"
     ]
    }
   ],
   "source": [
    "import csv\n",
    "csvfile = open(\"./medals_2023.csv\")\n",
    "for row in csv.reader(csvfile):\n",
    "    print(row)\n",
    "csvfile.close()"
   ]
  },
  {
   "cell_type": "markdown",
   "id": "18660968",
   "metadata": {},
   "source": [
    "#### Q13(a) - Use the data you read from csv file and convert it into NumPy array and display the data type"
   ]
  },
  {
   "cell_type": "code",
   "execution_count": 25,
   "id": "3abd90ed",
   "metadata": {},
   "outputs": [
    {
     "name": "stdout",
     "output_type": "stream",
     "text": [
      "Data as NumPy array:\n",
      "[['Rank' 'Country' 'Gold' 'Silver' 'Bronze' 'Total']\n",
      " ['1' 'Vietnam' '136' '105' '114' '355']\n",
      " ['2' 'Thailand' '108' '96' '109' '313']\n",
      " ['3' 'Indonesia' '87' '80' '109' '276']\n",
      " ['4' 'Cambodia' '81' '74' '127' '282']\n",
      " ['5' 'Philippines' '58' '86' '116' '260']\n",
      " ['6' 'Singapore' '51' '42' '64' '157']\n",
      " ['7' 'Malaysia' '34' '45' '96' '175']\n",
      " ['8' 'Myanmar' '21' '25' '68' '114']\n",
      " ['9' 'Laos' '6' '22' '60' '88']\n",
      " ['10' 'Brunei' '2' '1' '6' '9']\n",
      " ['11' 'Timor-Leste' '0' '0' '8' '8']]\n"
     ]
    }
   ],
   "source": [
    "# Q13(a)\n",
    "# This array was created\n",
    "medals = [\n",
    "    ['Rank', 'Country', 'Gold', 'Silver', 'Bronze', 'Total'],\n",
    "    ['1', 'Vietnam', '136', '105', '114', '355'],\n",
    "    ['2', 'Thailand', '108', '96', '109', '313'],\n",
    "    ['3', 'Indonesia', '87', '80', '109', '276'],\n",
    "    ['4', 'Cambodia', '81', '74', '127', '282'],\n",
    "    ['5', 'Philippines', '58', '86', '116', '260'],\n",
    "    ['6', 'Singapore', '51', '42', '64', '157'],\n",
    "    ['7', 'Malaysia', '34', '45', '96', '175'],\n",
    "    ['8', 'Myanmar', '21', '25', '68', '114'],\n",
    "    ['9', 'Laos', '6', '22', '60', '88'],\n",
    "    ['10', 'Brunei', '2', '1', '6', '9'],\n",
    "    ['11', 'Timor-Leste', '0', '0', '8', '8']\n",
    "]\n",
    "\n",
    "# Convert the data to NumPy array\n",
    "# Type your answer here\n",
    "data = np.array(medals[:], dtype=object)\n",
    "# 숫자, 문자열, 리스트 등 여러 다양한 데이터 타입을 가질 수 있을 때 dtype=object를 사용할 수 있습니다.\n",
    "\n",
    "# Print the NumPy array\n",
    "# Type your answer here\n",
    "print(\"Data as NumPy array:\")\n",
    "print(data)"
   ]
  },
  {
   "cell_type": "markdown",
   "id": "5ea9a2e5",
   "metadata": {},
   "source": [
    "#### Q13(b) - Only Display the Top 3 medal ranking countries"
   ]
  },
  {
   "cell_type": "code",
   "execution_count": 94,
   "id": "571ebde0",
   "metadata": {},
   "outputs": [
    {
     "name": "stdout",
     "output_type": "stream",
     "text": [
      "['Rank' 'Country' 'Gold' 'Silver' 'Bronze' 'Total'] [['1' 'Vietnam' '136' '105' '114' '355']\n",
      " ['2' 'Thailand' '108' '96' '109' '313']\n",
      " ['3' 'Indonesia' '87' '80' '109' '276']]\n"
     ]
    }
   ],
   "source": [
    "# Q13(b)\n",
    "# Type your answer here\n",
    "# Extract the header and the top 3 rows\n",
    "header = data[0]\n",
    "top_3 = data[1:4]\n",
    "\n",
    "# Print the header and top 3 countries\n",
    "print(header, top_3)"
   ]
  },
  {
   "cell_type": "markdown",
   "id": "67b4f45a",
   "metadata": {},
   "source": [
    "#### Q13(c) - Display all the medals won by Singapore"
   ]
  },
  {
   "cell_type": "code",
   "execution_count": 28,
   "id": "27b72c35",
   "metadata": {},
   "outputs": [
    {
     "name": "stdout",
     "output_type": "stream",
     "text": [
      "['Rank' 'Country' 'Gold' 'Silver' 'Bronze' 'Total']\n",
      "[['6' 'Singapore' '51' '42' '64' '157']]\n"
     ]
    }
   ],
   "source": [
    "# Q13(c)\n",
    "# Type your answer here\n",
    "# Create a boolean mask for rows where 'Country' is 'Singapore'\n",
    "country_list = data[:, 1]\n",
    "# print(country_list)\n",
    "\n",
    "# Use boolean indexing to extract the rows for Singapore\n",
    "is_Singapore = country_list==\"Singapore\"\n",
    "\n",
    "# Print the medals won by Singapore\n",
    "print(data[0])\n",
    "print(data[is_Singapore])"
   ]
  },
  {
   "cell_type": "markdown",
   "id": "5e90e2d2",
   "metadata": {},
   "source": [
    "#### Q13(d) - Display only the Gold and Total Medals won by the Countries"
   ]
  },
  {
   "cell_type": "code",
   "execution_count": 30,
   "id": "f222258c",
   "metadata": {},
   "outputs": [
    {
     "name": "stdout",
     "output_type": "stream",
     "text": [
      "[['Rank' 'Country' 'Gold' 'Total']\n",
      " ['1' 'Vietnam' '136' '355']\n",
      " ['2' 'Thailand' '108' '313']\n",
      " ['3' 'Indonesia' '87' '276']\n",
      " ['4' 'Cambodia' '81' '282']\n",
      " ['5' 'Philippines' '58' '260']\n",
      " ['6' 'Singapore' '51' '157']\n",
      " ['7' 'Malaysia' '34' '175']\n",
      " ['8' 'Myanmar' '21' '114']\n",
      " ['9' 'Laos' '6' '88']\n",
      " ['10' 'Brunei' '2' '9']\n",
      " ['11' 'Timor-Leste' '0' '8']]\n"
     ]
    }
   ],
   "source": [
    "# Q13(d)\n",
    "# Type your answer here\n",
    "# Keep 'Rank', 'Country', 'Gold', and 'Total' columns\n",
    "\n",
    "selected_columns = data[:, [0,1,2,5]]\n",
    "\n",
    "# Print the selected columns for all countries\n",
    "\n",
    "print(selected_columns)"
   ]
  },
  {
   "cell_type": "markdown",
   "id": "46537ac2",
   "metadata": {},
   "source": [
    "#### Q13(e) Remove the Silver and Bronze column"
   ]
  },
  {
   "cell_type": "code",
   "execution_count": 31,
   "id": "2a2d5ee3",
   "metadata": {},
   "outputs": [
    {
     "name": "stdout",
     "output_type": "stream",
     "text": [
      "[['Rank' 'Country' 'Gold' 'Total']\n",
      " ['1' 'Vietnam' '136' '355']\n",
      " ['2' 'Thailand' '108' '313']\n",
      " ['3' 'Indonesia' '87' '276']\n",
      " ['4' 'Cambodia' '81' '282']\n",
      " ['5' 'Philippines' '58' '260']\n",
      " ['6' 'Singapore' '51' '157']\n",
      " ['7' 'Malaysia' '34' '175']\n",
      " ['8' 'Myanmar' '21' '114']\n",
      " ['9' 'Laos' '6' '88']\n",
      " ['10' 'Brunei' '2' '9']\n",
      " ['11' 'Timor-Leste' '0' '8']]\n"
     ]
    }
   ],
   "source": [
    "# Q13(e)\n",
    "# Type your answer here\n",
    "# Remove 'Silver' and 'Bronze' columns (columns 3 and 4)\n",
    "numpy_array = np.delete(data, [3,4], axis=1)\n",
    "\n",
    "# Print the modified NumPy array\n",
    "print(numpy_array)"
   ]
  },
  {
   "cell_type": "markdown",
   "id": "7ecfaa88",
   "metadata": {},
   "source": [
    "#### Q13(f) - Sort the Medal Tally Table based on the Total Medals won by countries"
   ]
  },
  {
   "cell_type": "code",
   "execution_count": 51,
   "id": "48f76a39",
   "metadata": {},
   "outputs": [
    {
     "name": "stdout",
     "output_type": "stream",
     "text": [
      "[ 1  0  3  2  4  6  5  7  8  9 10]\n",
      "[['Rank' 'Country' 'Gold' 'Silver' 'Bronze' 'Total']\n",
      " ['1' 'Vietnam' '136' '105' '114' '355']\n",
      " ['2' 'Thailand' '108' '96' '109' '313']\n",
      " ['4' 'Cambodia' '81' '74' '127' '282']\n",
      " ['3' 'Indonesia' '87' '80' '109' '276']\n",
      " ['5' 'Philippines' '58' '86' '116' '260']\n",
      " ['7' 'Malaysia' '34' '45' '96' '175']\n",
      " ['6' 'Singapore' '51' '42' '64' '157']\n",
      " ['8' 'Myanmar' '21' '25' '68' '114']\n",
      " ['9' 'Laos' '6' '22' '60' '88']\n",
      " ['10' 'Brunei' '2' '1' '6' '9']\n",
      " ['11' 'Timor-Leste' '0' '0' '8' '8']]\n"
     ]
    }
   ],
   "source": [
    "# Q13(f)\n",
    "\n",
    "import numpy as np\n",
    "\n",
    "medals = [\n",
    "    ['Rank', 'Country', 'Gold', 'Silver', 'Bronze', 'Total'],\n",
    "    ['2', 'Thailand', '108', '96', '109', '313'],\n",
    "    ['1', 'Vietnam', '136', '105', '114', '355'],\n",
    "    ['3', 'Indonesia', '87', '80', '109', '276'],\n",
    "    ['4', 'Cambodia', '81', '74', '127', '282'],\n",
    "    ['5', 'Philippines', '58', '86', '116', '260'],\n",
    "    ['6', 'Singapore', '51', '42', '64', '157'],\n",
    "    ['7', 'Malaysia', '34', '45', '96', '175'],\n",
    "    ['8', 'Myanmar', '21', '25', '68', '114'],\n",
    "    ['9', 'Laos', '6', '22', '60', '88'],\n",
    "    ['10', 'Brunei', '2', '1', '6', '9'],\n",
    "    ['11', 'Timor-Leste', '0', '0', '8', '8']\n",
    "]\n",
    "\n",
    "numpy_array = np.array(medals[1:], dtype=object)\n",
    "\n",
    "# Convert 'Total' column to integers for sorting\n",
    "# Type your answer here\n",
    "total_column = numpy_array[:, -1].astype(int)\n",
    "\n",
    "# Get indices that would sort the 'Total' column in descending order\n",
    "# Type your answer here\n",
    "sorted_indices = np.argsort(total_column)[::-1]\n",
    "print(sorted_indices)\n",
    "\n",
    "# Sort the NumPy array based on the sorted indices\n",
    "# Type your answer here\n",
    "sorted_array = numpy_array[sorted_indices]\n",
    "\n",
    "# Add the header row back to the sorted array\n",
    "# Type your answer here\n",
    "sorted_array = np.vstack([medals[0], sorted_array])\n",
    "\n",
    "# Print the sorted NumPy array\n",
    "# Type your answer here\n",
    "print(sorted_array)"
   ]
  },
  {
   "cell_type": "code",
   "execution_count": 52,
   "id": "987b8296",
   "metadata": {},
   "outputs": [
    {
     "name": "stdout",
     "output_type": "stream",
     "text": [
      "[['Rank' 'Country' 'Gold' 'Total']\n",
      " ['1' 'Vietnam' '136' '355']\n",
      " ['2' 'Thailand' '108' '313']\n",
      " ['4' 'Cambodia' '81' '282']\n",
      " ['3' 'Indonesia' '87' '276']\n",
      " ['5' 'Philippines' '58' '260']\n",
      " ['7' 'Malaysia' '34' '175']\n",
      " ['6' 'Singapore' '51' '157']\n",
      " ['8' 'Myanmar' '21' '114']\n",
      " ['9' 'Laos' '6' '88']\n",
      " ['10' 'Brunei' '2' '9']\n",
      " ['11' 'Timor-Leste' '0' '8']]\n"
     ]
    }
   ],
   "source": [
    "# Q13(f)\n",
    "\n",
    "import numpy as np\n",
    "\n",
    "medals = [\n",
    "    ['Rank', 'Country', 'Gold', 'Silver', 'Bronze', 'Total'],\n",
    "    ['1', 'Vietnam', '136', '105', '114', '355'],\n",
    "    ['2', 'Thailand', '108', '96', '109', '313'],\n",
    "    ['3', 'Indonesia', '87', '80', '109', '276'],\n",
    "    ['4', 'Cambodia', '81', '74', '127', '282'],\n",
    "    ['5', 'Philippines', '58', '86', '116', '260'],\n",
    "    ['6', 'Singapore', '51', '42', '64', '157'],\n",
    "    ['7', 'Malaysia', '34', '45', '96', '175'],\n",
    "    ['8', 'Myanmar', '21', '25', '68', '114'],\n",
    "    ['9', 'Laos', '6', '22', '60', '88'],\n",
    "    ['10', 'Brunei', '2', '1', '6', '9'],\n",
    "    ['11', 'Timor-Leste', '0', '0', '8', '8']\n",
    "]\n",
    "\n",
    "# Convert the data to NumPy array, excluding the first row\n",
    "# Type your answer here\n",
    "numpy_array = np.array(medals[1:], dtype=object)\n",
    "\n",
    "# Remove 'Silver' and 'Bronze' columns (columns 3 and 4)\n",
    "# Type your answer here\n",
    "numpy_array = np.delete(numpy_array, [3, 4], axis=1)\n",
    "\n",
    "# Convert 'Total' column to integers for sorting\n",
    "# Type your answer here\n",
    "total_column = numpy_array[:, -1].astype(int)\n",
    "\n",
    "# Get indices that would sort the 'Total' column in descending order\n",
    "# Type your answer here\n",
    "sorted_indices = np.argsort(total_column)[::-1]\n",
    "\n",
    "# Sort the NumPy array based on the sorted indices\n",
    "# Type your answer here\n",
    "sorted_array = numpy_array[sorted_indices]\n",
    "\n",
    "# Add the header row back to the sorted array\n",
    "# Type your answer here\n",
    "sorted_array = np.vstack([medals[0][:3] + medals[0][-1:], sorted_array])\n",
    "\n",
    "# Print the sorted NumPy array without 'Silver' and 'Bronze'\n",
    "# Type your answer here\n",
    "print(sorted_array)"
   ]
  },
  {
   "cell_type": "code",
   "execution_count": null,
   "id": "3c1d9842",
   "metadata": {},
   "outputs": [],
   "source": []
  }
 ],
 "metadata": {
  "kernelspec": {
   "display_name": "Python 3 (ipykernel)",
   "language": "python",
   "name": "python3"
  },
  "language_info": {
   "codemirror_mode": {
    "name": "ipython",
    "version": 3
   },
   "file_extension": ".py",
   "mimetype": "text/x-python",
   "name": "python",
   "nbconvert_exporter": "python",
   "pygments_lexer": "ipython3",
   "version": "3.10.9"
  }
 },
 "nbformat": 4,
 "nbformat_minor": 5
}
