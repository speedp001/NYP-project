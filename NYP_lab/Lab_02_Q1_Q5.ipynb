{
 "cells": [
  {
   "cell_type": "code",
   "execution_count": 1,
   "id": "73590471",
   "metadata": {},
   "outputs": [
    {
     "name": "stdout",
     "output_type": "stream",
     "text": [
      "{'Hall': 11.25, 'Kitchen': 18.2, 'Living': 20.0, 'Bedroom': 10.75, 'Bath': 9.5}\n"
     ]
    }
   ],
   "source": [
    "# List and Tuple 1-(a)\n",
    "keys = [\"Hall\", \"Kitchen\", \"Living\", \"Bedroom\", \"Bath\"]\n",
    "value = [11.25, 18.20, 20.0, 10.75, 9.5]\n",
    "dic_areas = dict(zip(keys, value))\n",
    "print(dic_areas)"
   ]
  },
  {
   "cell_type": "code",
   "execution_count": 12,
   "id": "f8a0cf1b",
   "metadata": {},
   "outputs": [
    {
     "name": "stdout",
     "output_type": "stream",
     "text": [
      "18.2\n",
      "9.5\n"
     ]
    }
   ],
   "source": [
    "# List and Tuple 1-(b)\n",
    "print(dic_areas[\"Kitchen\"])\n",
    "print(dic_areas[\"Bath\"])"
   ]
  },
  {
   "cell_type": "code",
   "execution_count": 15,
   "id": "12e4ef3c",
   "metadata": {},
   "outputs": [
    {
     "name": "stdout",
     "output_type": "stream",
     "text": [
      "{'Hall': 11.25, 'Kitchen': 18.2, 'Living': 20.0, 'Bedroom': 10.2, 'Bath': 9.5}\n"
     ]
    }
   ],
   "source": [
    "# List and Tuple 1-(c)\n",
    "dic_areas[\"Bedroom\"] = 10.20\n",
    "print(dic_areas)\n",
    "\n",
    "# List and Tuple 1-(d)\n",
    "# Tuble can't change the value"
   ]
  },
  {
   "cell_type": "code",
   "execution_count": 24,
   "id": "58c5e2f8",
   "metadata": {},
   "outputs": [
    {
     "name": "stdout",
     "output_type": "stream",
     "text": [
      "Output: 1\n"
     ]
    }
   ],
   "source": [
    "# List and Tuple 2\n",
    "input1 = [1,2,3,4]\n",
    "input2 = [2,1,3,4,5]\n",
    "\n",
    "def count_different_elements(list1, list2):\n",
    "    # list -> set\n",
    "    set1 = set(list1)\n",
    "    set2 = set(list2)\n",
    "    \n",
    "    # Return the difference len between input1, input2\n",
    "    return len(set1.symmetric_difference(set2))\n",
    "\n",
    "# Print difference len between input1, input2\n",
    "result = count_different_elements(input1, input2)\n",
    "print(\"Output:\", result)\n"
   ]
  },
  {
   "cell_type": "code",
   "execution_count": 38,
   "id": "8722ee7c",
   "metadata": {},
   "outputs": [
    {
     "name": "stdout",
     "output_type": "stream",
     "text": [
      "Alice's Info: {'Name': 'Alice', 'Admin Number': 'IT001', 'Math Score': 90, 'Science Score': 85}\n",
      "Bob's Math Score: 88\n",
      "All Math Scores: [90 88 78]\n",
      "Average Math Scores: 85.33333333333333\n"
     ]
    }
   ],
   "source": [
    "import numpy as np\n",
    "\n",
    "# 학생 정보를 넘파이 배열로 표현\n",
    "students = np.array([\n",
    "    {\n",
    "        'Name': 'Alice',\n",
    "        'Admin Number': 'IT001',\n",
    "        'Math Score': 90,\n",
    "        'Science Score': 85\n",
    "    },\n",
    "    {\n",
    "        'Name': 'Bob',\n",
    "        'Admin Number': 'IT002',\n",
    "        'Math Score': 88,\n",
    "        'Science Score': 90\n",
    "    },\n",
    "    {\n",
    "        'Name': 'Charlie',\n",
    "        'Admin Number': 'IT003',\n",
    "        'Math Score': 78,\n",
    "        'Science Score': 82\n",
    "    }\n",
    "], dtype=object)\n",
    "\n",
    "# 특정 학생의 정보 조회\n",
    "alice_info = students[0]\n",
    "print(\"Alice's Info:\", alice_info)\n",
    "\n",
    "# 특정 학생의 수학 점수 조회\n",
    "bob_math_score = students[1]['Math Score']\n",
    "print(\"Bob's Math Score:\", bob_math_score)\n",
    "\n",
    "# 모든 학생의 수학 점수 추출\n",
    "math_scores = np.array([student['Math Score'] for student in students])\n",
    "print(\"All Math Scores:\", math_scores)\n",
    "\n",
    "# 학생들의 수학 점수 평균\n",
    "print(\"Average Math Scores:\", np.mean(math_scores))\n"
   ]
  },
  {
   "cell_type": "code",
   "execution_count": 39,
   "id": "3da90b12",
   "metadata": {},
   "outputs": [
    {
     "name": "stdout",
     "output_type": "stream",
     "text": [
      "[{'name': 'Bob', 'age': 22}, {'name': 'Alice', 'age': 25}, {'name': 'Charlie', 'age': 28}]\n"
     ]
    }
   ],
   "source": [
    "students = [\n",
    "    {'name': 'Alice', 'age': 25},\n",
    "    {'name': 'Bob', 'age': 22},\n",
    "    {'name': 'Charlie', 'age': 28}\n",
    "]\n",
    "\n",
    "students.sort(key=lambda student: student['age'])\n",
    "print(students)\n"
   ]
  },
  {
   "cell_type": "code",
   "execution_count": 40,
   "id": "8b7d8a82",
   "metadata": {},
   "outputs": [
    {
     "name": "stdout",
     "output_type": "stream",
     "text": [
      "      Name  Age\n",
      "0    Alice   25\n",
      "1      Bob   22\n",
      "2  Charlie   28\n"
     ]
    }
   ],
   "source": [
    "import pandas as pd\n",
    "\n",
    "# 딕셔너리를 사용하여 데이터프레임 생성\n",
    "data = {'Name': ['Alice', 'Bob', 'Charlie'],\n",
    "        'Age': [25, 22, 28]}\n",
    "df = pd.DataFrame(data)\n",
    "print(df)"
   ]
  }
 ],
 "metadata": {
  "kernelspec": {
   "display_name": "AI",
   "language": "python",
   "name": "ai"
  },
  "language_info": {
   "codemirror_mode": {
    "name": "ipython",
    "version": 3
   },
   "file_extension": ".py",
   "mimetype": "text/x-python",
   "name": "python",
   "nbconvert_exporter": "python",
   "pygments_lexer": "ipython3",
   "version": "3.8.17"
  }
 },
 "nbformat": 4,
 "nbformat_minor": 5
}
